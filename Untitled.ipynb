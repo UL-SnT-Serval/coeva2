{
 "cells": [
  {
   "cell_type": "code",
   "execution_count": 1,
   "id": "single-thumb",
   "metadata": {},
   "outputs": [
    {
     "ename": "ModuleNotFoundError",
     "evalue": "No module named 'utils'",
     "output_type": "error",
     "traceback": [
      "\u001b[1;31m---------------------------------------------------------------------------\u001b[0m",
      "\u001b[1;31mModuleNotFoundError\u001b[0m                       Traceback (most recent call last)",
      "\u001b[1;32m<ipython-input-1-d1e4f35e7e6d>\u001b[0m in \u001b[0;36m<module>\u001b[1;34m\u001b[0m\n\u001b[1;32m----> 1\u001b[1;33m \u001b[1;32mfrom\u001b[0m \u001b[0mutils\u001b[0m \u001b[1;32mimport\u001b[0m \u001b[0mPickler\u001b[0m\u001b[1;33m\u001b[0m\u001b[1;33m\u001b[0m\u001b[0m\n\u001b[0m",
      "\u001b[1;31mModuleNotFoundError\u001b[0m: No module named 'utils'"
     ]
    }
   ],
   "source": [
    "from utils import Pickler"
   ]
  },
  {
   "cell_type": "code",
   "execution_count": 1,
   "id": "local-maldives",
   "metadata": {},
   "outputs": [],
   "source": [
    "import pandas as pd\n",
    "import numpy as np"
   ]
  },
  {
   "cell_type": "code",
   "execution_count": 2,
   "id": "historical-tsunami",
   "metadata": {},
   "outputs": [],
   "source": [
    "gen = np.load(r'C:\\Users\\salijona.dyrmishi\\constrained_malware_detection\\coeva2\\src\\hopefully_this.npy')"
   ]
  },
  {
   "cell_type": "code",
   "execution_count": 3,
   "id": "engaged-philippines",
   "metadata": {},
   "outputs": [
    {
     "data": {
      "text/plain": [
       "array([[1.        , 1.        , 0.        , ..., 0.15804004, 0.06640217,\n",
       "        0.65470351],\n",
       "       [1.        , 1.        , 0.        , ..., 0.17023479, 0.06640217,\n",
       "        0.65470351],\n",
       "       [1.        , 0.        , 0.        , ..., 0.3216527 , 0.06534401,\n",
       "        0.08225785],\n",
       "       ...,\n",
       "       [1.        , 0.        , 0.        , ..., 0.17016987, 0.91165891,\n",
       "        0.26859051],\n",
       "       [0.        , 0.        , 0.        , ..., 0.15899244, 0.05026297,\n",
       "        0.26394333],\n",
       "       [1.        , 1.        , 0.        , ..., 0.16872554, 0.06708403,\n",
       "        0.43088373]])"
      ]
     },
     "execution_count": 3,
     "metadata": {},
     "output_type": "execute_result"
    }
   ],
   "source": [
    "gen"
   ]
  },
  {
   "cell_type": "code",
   "execution_count": 178,
   "id": "removable-nickname",
   "metadata": {},
   "outputs": [
    {
     "data": {
      "text/plain": [
       "False"
      ]
     },
     "execution_count": 178,
     "metadata": {},
     "output_type": "execute_result"
    }
   ],
   "source": [
    "np.isnan(gen).any()"
   ]
  },
  {
   "cell_type": "code",
   "execution_count": 181,
   "id": "specific-mailman",
   "metadata": {},
   "outputs": [
    {
     "data": {
      "text/plain": [
       "2117101465.0"
      ]
     },
     "execution_count": 181,
     "metadata": {},
     "output_type": "execute_result"
    }
   ],
   "source": [
    "gen.max()"
   ]
  },
  {
   "cell_type": "code",
   "execution_count": 297,
   "id": "valuable-austin",
   "metadata": {},
   "outputs": [
    {
     "data": {
      "text/plain": [
       "0.0"
      ]
     },
     "execution_count": 297,
     "metadata": {},
     "output_type": "execute_result"
    }
   ],
   "source": [
    "gen.min()"
   ]
  },
  {
   "cell_type": "code",
   "execution_count": 4,
   "id": "metropolitan-uniform",
   "metadata": {},
   "outputs": [
    {
     "data": {
      "text/plain": [
       "(300, 24222)"
      ]
     },
     "execution_count": 4,
     "metadata": {},
     "output_type": "execute_result"
    }
   ],
   "source": [
    "gen.shape"
   ]
  },
  {
   "cell_type": "code",
   "execution_count": 184,
   "id": "dirty-option",
   "metadata": {},
   "outputs": [
    {
     "name": "stdout",
     "output_type": "stream",
     "text": [
      "Min pesection_4_size\n",
      "Min pesection_14_size\n",
      "Min pesection_2_size\n",
      "Min header_SizeOfImage\n",
      "Min pesection_5_size\n",
      "Min pesection_11_size\n",
      "Min pesection_12_size\n",
      "Min pesection_6_size\n",
      "Min pesection_10_size\n",
      "Min pesection_1_size\n",
      "Min pesection_16_size\n",
      "Min header_BaseOfData\n",
      "Min generic_fileSize\n"
     ]
    }
   ],
   "source": [
    "feat_wm = pd.read_csv(r'C:\\Users\\salijona.dyrmishi\\constrained_malware_detection\\coeva2\\data\\lcld\\features_wm.csv')\n",
    "max_features = []\n",
    "i=0\n",
    "for idx,row in feat_wm.iterrows():\n",
    "    if gen[:,idx].min() < row['min']:\n",
    "        print('Min', row['feature'])\n",
    "    if gen[:,idx].max() > row['max']:\n",
    "        print('Max', row['feature'])"
   ]
  },
  {
   "cell_type": "code",
   "execution_count": 185,
   "id": "bridal-times",
   "metadata": {},
   "outputs": [
    {
     "data": {
      "text/plain": [
       "(array([0, 0, 0, 0, 0, 0, 0, 0, 0, 0, 0, 0, 0], dtype=int64),\n",
       " array([  349,  1943,  2017,  4161,  5840,  7311, 11211, 11441, 12324,\n",
       "        13894, 14072, 14325, 23550], dtype=int64))"
      ]
     },
     "execution_count": 185,
     "metadata": {},
     "output_type": "execute_result"
    }
   ],
   "source": [
    "np.where(gen<0)"
   ]
  },
  {
   "cell_type": "code",
   "execution_count": 186,
   "id": "random-midnight",
   "metadata": {},
   "outputs": [],
   "source": [
    "a = gen[~(gen < 0).any(axis=1), :]"
   ]
  },
  {
   "cell_type": "code",
   "execution_count": 187,
   "id": "theoretical-pursuit",
   "metadata": {},
   "outputs": [],
   "source": [
    "a = feat_wm[feat_wm['feature']=='pesection_8_size']"
   ]
  },
  {
   "cell_type": "code",
   "execution_count": 188,
   "id": "exempt-lingerie",
   "metadata": {},
   "outputs": [
    {
     "data": {
      "text/plain": [
       "0"
      ]
     },
     "execution_count": 188,
     "metadata": {},
     "output_type": "execute_result"
    }
   ],
   "source": [
    "a['min'].values[0]"
   ]
  },
  {
   "cell_type": "code",
   "execution_count": 189,
   "id": "absent-adjustment",
   "metadata": {},
   "outputs": [
    {
     "data": {
      "text/html": [
       "<div>\n",
       "<style scoped>\n",
       "    .dataframe tbody tr th:only-of-type {\n",
       "        vertical-align: middle;\n",
       "    }\n",
       "\n",
       "    .dataframe tbody tr th {\n",
       "        vertical-align: top;\n",
       "    }\n",
       "\n",
       "    .dataframe thead th {\n",
       "        text-align: right;\n",
       "    }\n",
       "</style>\n",
       "<table border=\"1\" class=\"dataframe\">\n",
       "  <thead>\n",
       "    <tr style=\"text-align: right;\">\n",
       "      <th></th>\n",
       "      <th>feature</th>\n",
       "      <th>type</th>\n",
       "      <th>mutable</th>\n",
       "      <th>min</th>\n",
       "      <th>max</th>\n",
       "    </tr>\n",
       "  </thead>\n",
       "  <tbody>\n",
       "    <tr>\n",
       "      <th>38</th>\n",
       "      <td>pesection_8_size</td>\n",
       "      <td>int</td>\n",
       "      <td>True</td>\n",
       "      <td>0</td>\n",
       "      <td>4.294967e+09</td>\n",
       "    </tr>\n",
       "  </tbody>\n",
       "</table>\n",
       "</div>"
      ],
      "text/plain": [
       "             feature type  mutable  min           max\n",
       "38  pesection_8_size  int     True    0  4.294967e+09"
      ]
     },
     "execution_count": 189,
     "metadata": {},
     "output_type": "execute_result"
    }
   ],
   "source": [
    "a"
   ]
  },
  {
   "cell_type": "code",
   "execution_count": 190,
   "id": "olive-estimate",
   "metadata": {},
   "outputs": [],
   "source": [
    "attack_cand = np.load(r'C:\\Users\\salijona.dyrmishi\\constrained_malware_detection\\conware\\x_attack_candidate_wm.npy')"
   ]
  },
  {
   "cell_type": "code",
   "execution_count": 279,
   "id": "clinical-workplace",
   "metadata": {},
   "outputs": [
    {
     "data": {
      "text/plain": [
       "(2112, 24222)"
      ]
     },
     "execution_count": 279,
     "metadata": {},
     "output_type": "execute_result"
    }
   ],
   "source": [
    "attack_cand.shape"
   ]
  },
  {
   "cell_type": "code",
   "execution_count": 191,
   "id": "prompt-stations",
   "metadata": {},
   "outputs": [
    {
     "data": {
      "text/plain": [
       "0.0"
      ]
     },
     "execution_count": 191,
     "metadata": {},
     "output_type": "execute_result"
    }
   ],
   "source": [
    "gen[:,38].min()"
   ]
  },
  {
   "cell_type": "code",
   "execution_count": 192,
   "id": "norman-scoop",
   "metadata": {},
   "outputs": [
    {
     "data": {
      "text/plain": [
       "-2147483648.0"
      ]
     },
     "execution_count": 192,
     "metadata": {},
     "output_type": "execute_result"
    }
   ],
   "source": [
    "gen.min()"
   ]
  },
  {
   "cell_type": "code",
   "execution_count": 193,
   "id": "metric-papua",
   "metadata": {},
   "outputs": [
    {
     "data": {
      "text/plain": [
       "(array([], dtype=int64), array([], dtype=int64))"
      ]
     },
     "execution_count": 193,
     "metadata": {},
     "output_type": "execute_result"
    }
   ],
   "source": [
    "np.where(gen==2147483648)"
   ]
  },
  {
   "cell_type": "code",
   "execution_count": 194,
   "id": "configured-meaning",
   "metadata": {},
   "outputs": [
    {
     "data": {
      "text/plain": [
       "2117101465.0"
      ]
     },
     "execution_count": 194,
     "metadata": {},
     "output_type": "execute_result"
    }
   ],
   "source": [
    "gen.max()"
   ]
  },
  {
   "cell_type": "code",
   "execution_count": 195,
   "id": "bottom-forestry",
   "metadata": {},
   "outputs": [
    {
     "data": {
      "text/plain": [
       "(array([], dtype=int64), array([], dtype=int64))"
      ]
     },
     "execution_count": 195,
     "metadata": {},
     "output_type": "execute_result"
    }
   ],
   "source": [
    "np.where(attack_cand==2147483648)"
   ]
  },
  {
   "cell_type": "code",
   "execution_count": 196,
   "id": "recovered-transmission",
   "metadata": {},
   "outputs": [
    {
     "data": {
      "text/plain": [
       "0.0"
      ]
     },
     "execution_count": 196,
     "metadata": {},
     "output_type": "execute_result"
    }
   ],
   "source": [
    "attack_cand.min()"
   ]
  },
  {
   "cell_type": "code",
   "execution_count": 197,
   "id": "gothic-heaven",
   "metadata": {},
   "outputs": [
    {
     "data": {
      "text/plain": [
       "4294967295.0"
      ]
     },
     "execution_count": 197,
     "metadata": {},
     "output_type": "execute_result"
    }
   ],
   "source": [
    "attack_cand.max()"
   ]
  },
  {
   "cell_type": "code",
   "execution_count": 198,
   "id": "knowing-departure",
   "metadata": {},
   "outputs": [
    {
     "data": {
      "text/plain": [
       "0.0"
      ]
     },
     "execution_count": 198,
     "metadata": {},
     "output_type": "execute_result"
    }
   ],
   "source": [
    "attack_cand[:,38].min()"
   ]
  },
  {
   "cell_type": "code",
   "execution_count": 199,
   "id": "activated-socket",
   "metadata": {},
   "outputs": [],
   "source": [
    "xl_genetic = np.load(r'C:\\Users\\salijona.dyrmishi\\constrained_malware_detection\\coeva2\\src\\low_genetic.npy')"
   ]
  },
  {
   "cell_type": "code",
   "execution_count": 200,
   "id": "applied-price",
   "metadata": {},
   "outputs": [
    {
     "data": {
      "text/plain": [
       "0.0"
      ]
     },
     "execution_count": 200,
     "metadata": {},
     "output_type": "execute_result"
    }
   ],
   "source": [
    "xl_genetic.min()"
   ]
  },
  {
   "cell_type": "code",
   "execution_count": 201,
   "id": "palestinian-explanation",
   "metadata": {},
   "outputs": [
    {
     "data": {
      "text/plain": [
       "268.0"
      ]
     },
     "execution_count": 201,
     "metadata": {},
     "output_type": "execute_result"
    }
   ],
   "source": [
    "xl_genetic.max()"
   ]
  },
  {
   "cell_type": "code",
   "execution_count": 202,
   "id": "controlling-wallpaper",
   "metadata": {},
   "outputs": [],
   "source": [
    "xu_genetic = np.load(r'C:\\Users\\salijona.dyrmishi\\constrained_malware_detection\\coeva2\\src\\high_genetic.npy')"
   ]
  },
  {
   "cell_type": "code",
   "execution_count": 203,
   "id": "blond-unemployment",
   "metadata": {},
   "outputs": [
    {
     "data": {
      "text/plain": [
       "1.0"
      ]
     },
     "execution_count": 203,
     "metadata": {},
     "output_type": "execute_result"
    }
   ],
   "source": [
    "xu_genetic.min()"
   ]
  },
  {
   "cell_type": "code",
   "execution_count": 204,
   "id": "ordered-still",
   "metadata": {},
   "outputs": [
    {
     "data": {
      "text/plain": [
       "4294967295.0"
      ]
     },
     "execution_count": 204,
     "metadata": {},
     "output_type": "execute_result"
    }
   ],
   "source": [
    "xu_genetic.max()"
   ]
  },
  {
   "cell_type": "code",
   "execution_count": 205,
   "id": "universal-fishing",
   "metadata": {},
   "outputs": [],
   "source": [
    "x_initial_ga = np.load(r'C:\\Users\\salijona.dyrmishi\\constrained_malware_detection\\coeva2\\src\\x_initial_ga.npy')"
   ]
  },
  {
   "cell_type": "code",
   "execution_count": 206,
   "id": "later-mouse",
   "metadata": {},
   "outputs": [
    {
     "data": {
      "text/plain": [
       "0.0"
      ]
     },
     "execution_count": 206,
     "metadata": {},
     "output_type": "execute_result"
    }
   ],
   "source": [
    "x_initial_ga.min()"
   ]
  },
  {
   "cell_type": "code",
   "execution_count": 280,
   "id": "intense-windsor",
   "metadata": {},
   "outputs": [],
   "source": [
    "x_initial_mm = np.load(r'C:\\Users\\salijona.dyrmishi\\constrained_malware_detection\\coeva2\\src\\x_initial_ml_mm.npy')"
   ]
  },
  {
   "cell_type": "code",
   "execution_count": 281,
   "id": "trying-civilian",
   "metadata": {},
   "outputs": [
    {
     "data": {
      "text/plain": [
       "0.0"
      ]
     },
     "execution_count": 281,
     "metadata": {},
     "output_type": "execute_result"
    }
   ],
   "source": [
    "x_initial_mm.min()"
   ]
  },
  {
   "cell_type": "code",
   "execution_count": 282,
   "id": "alert-charm",
   "metadata": {},
   "outputs": [
    {
     "data": {
      "text/plain": [
       "1.0"
      ]
     },
     "execution_count": 282,
     "metadata": {},
     "output_type": "execute_result"
    }
   ],
   "source": [
    "x_initial_mm.max()"
   ]
  },
  {
   "cell_type": "code",
   "execution_count": 283,
   "id": "entitled-disclaimer",
   "metadata": {},
   "outputs": [],
   "source": [
    "x_initial_ga = np.load(r'C:\\Users\\salijona.dyrmishi\\constrained_malware_detection\\coeva2\\src\\x_initial_ga.npy')"
   ]
  },
  {
   "cell_type": "code",
   "execution_count": 284,
   "id": "global-cookie",
   "metadata": {},
   "outputs": [
    {
     "data": {
      "text/plain": [
       "0.0"
      ]
     },
     "execution_count": 284,
     "metadata": {},
     "output_type": "execute_result"
    }
   ],
   "source": [
    "x_initial_ga.min()"
   ]
  },
  {
   "cell_type": "code",
   "execution_count": 285,
   "id": "blank-harassment",
   "metadata": {},
   "outputs": [
    {
     "data": {
      "text/plain": [
       "4194304.0"
      ]
     },
     "execution_count": 285,
     "metadata": {},
     "output_type": "execute_result"
    }
   ],
   "source": [
    "x_initial_ga.max()"
   ]
  },
  {
   "cell_type": "code",
   "execution_count": null,
   "id": "computational-cosmetic",
   "metadata": {},
   "outputs": [],
   "source": [
    "low_genetic = np.load(r'C:\\Users\\salijona.dyrmishi\\constrained_malware_detection\\coeva2\\src\\low_genetic.npy')"
   ]
  },
  {
   "cell_type": "code",
   "execution_count": 5,
   "id": "functioning-berlin",
   "metadata": {},
   "outputs": [],
   "source": [
    "x_generated_candidates = np.load(r'C:\\Users\\salijona.dyrmishi\\constrained_malware_detection\\coeva2\\out\\static\\x_generated_candidate.npy')"
   ]
  },
  {
   "cell_type": "code",
   "execution_count": 6,
   "id": "earlier-small",
   "metadata": {},
   "outputs": [
    {
     "data": {
      "text/plain": [
       "array([], shape=(0, 24222), dtype=float64)"
      ]
     },
     "execution_count": 6,
     "metadata": {},
     "output_type": "execute_result"
    }
   ],
   "source": [
    "x_generated_candidates"
   ]
  },
  {
   "cell_type": "code",
   "execution_count": 286,
   "id": "banner-oasis",
   "metadata": {},
   "outputs": [
    {
     "data": {
      "text/plain": [
       "0.0"
      ]
     },
     "execution_count": 286,
     "metadata": {},
     "output_type": "execute_result"
    }
   ],
   "source": [
    "low_genetic.min()"
   ]
  },
  {
   "cell_type": "code",
   "execution_count": 212,
   "id": "central-horizontal",
   "metadata": {},
   "outputs": [],
   "source": [
    "high_genetic = np.load(r'C:\\Users\\salijona.dyrmishi\\constrained_malware_detection\\coeva2\\src\\high_genetic.npy')"
   ]
  },
  {
   "cell_type": "code",
   "execution_count": 290,
   "id": "interracial-threshold",
   "metadata": {},
   "outputs": [
    {
     "data": {
      "text/plain": [
       "4294967295.0"
      ]
     },
     "execution_count": 290,
     "metadata": {},
     "output_type": "execute_result"
    }
   ],
   "source": [
    "float(high_genetic.max())"
   ]
  },
  {
   "cell_type": "code",
   "execution_count": 295,
   "id": "brief-fusion",
   "metadata": {},
   "outputs": [
    {
     "data": {
      "text/plain": [
       "4294967296"
      ]
     },
     "execution_count": 295,
     "metadata": {},
     "output_type": "execute_result"
    }
   ],
   "source": [
    "np.rint(4294967295.9999).astype(np.int64)"
   ]
  },
  {
   "cell_type": "code",
   "execution_count": 291,
   "id": "inappropriate-masters",
   "metadata": {},
   "outputs": [
    {
     "data": {
      "text/plain": [
       "1.0"
      ]
     },
     "execution_count": 291,
     "metadata": {},
     "output_type": "execute_result"
    }
   ],
   "source": [
    "high_genetic.min()"
   ]
  },
  {
   "cell_type": "code",
   "execution_count": 288,
   "id": "soviet-belle",
   "metadata": {},
   "outputs": [
    {
     "name": "stdout",
     "output_type": "stream",
     "text": [
      "0.0\n",
      "1903279294.0\n"
     ]
    }
   ],
   "source": [
    "x_ml = np.load(r'C:\\Users\\salijona.dyrmishi\\constrained_malware_detection\\coeva2\\src\\x_ml.npy')\n",
    "print(x_ml.min())\n",
    "print(x_ml.max())"
   ]
  },
  {
   "cell_type": "code",
   "execution_count": 215,
   "id": "consistent-ebony",
   "metadata": {},
   "outputs": [
    {
     "name": "stdout",
     "output_type": "stream",
     "text": [
      "0.0\n",
      "1.0\n"
     ]
    }
   ],
   "source": [
    "x_ml_mm = np.load(r'C:\\Users\\salijona.dyrmishi\\constrained_malware_detection\\coeva2\\src\\x_ml_mm.npy')\n",
    "print(x_ml_mm.min())\n",
    "print(x_ml_mm.max())"
   ]
  },
  {
   "cell_type": "code",
   "execution_count": 216,
   "id": "sublime-tiffany",
   "metadata": {},
   "outputs": [
    {
     "data": {
      "text/plain": [
       "array([], shape=(0, 24222), dtype=float64)"
      ]
     },
     "execution_count": 216,
     "metadata": {},
     "output_type": "execute_result"
    }
   ],
   "source": [
    "cand = np.load(r'C:\\Users\\salijona.dyrmishi\\constrained_malware_detection\\coeva2\\out\\static\\x_generated_candidate.npy')\n",
    "cand"
   ]
  },
  {
   "cell_type": "code",
   "execution_count": 217,
   "id": "academic-sudan",
   "metadata": {},
   "outputs": [
    {
     "data": {
      "text/plain": [
       "array([[[1.        , 1.        , 1.        , ..., 0.10914717,\n",
       "         0.36139026, 0.63150991],\n",
       "        [1.        , 1.        , 1.        , ..., 0.10934701,\n",
       "         0.3604817 , 0.34284421]],\n",
       "\n",
       "       [[1.        , 1.        , 1.        , ..., 0.10914717,\n",
       "         0.36139026, 0.63150991],\n",
       "        [1.        , 1.        , 1.        , ..., 0.10934701,\n",
       "         0.3604817 , 0.34284421]],\n",
       "\n",
       "       [[1.        , 1.        , 1.        , ..., 0.10914717,\n",
       "         0.36139026, 0.63150991],\n",
       "        [1.        , 1.        , 1.        , ..., 0.10934701,\n",
       "         0.3604817 , 0.34284421]],\n",
       "\n",
       "       ...,\n",
       "\n",
       "       [[1.        , 1.        , 1.        , ..., 0.10914717,\n",
       "         0.36139026, 0.63150991],\n",
       "        [1.        , 1.        , 1.        , ..., 0.10934701,\n",
       "         0.3604817 , 0.34284421]],\n",
       "\n",
       "       [[1.        , 1.        , 1.        , ..., 0.10914717,\n",
       "         0.36139026, 0.63150991],\n",
       "        [1.        , 1.        , 1.        , ..., 0.10934701,\n",
       "         0.3604817 , 0.34284421]],\n",
       "\n",
       "       [[1.        , 1.        , 1.        , ..., 0.10914717,\n",
       "         0.36139026, 0.63150991],\n",
       "        [1.        , 1.        , 1.        , ..., 0.10934701,\n",
       "         0.3604817 , 0.34284421]]])"
      ]
     },
     "execution_count": 217,
     "metadata": {},
     "output_type": "execute_result"
    }
   ],
   "source": [
    "b = np.repeat(x_ml_mm[None, :], 10, axis=0)\n",
    "b"
   ]
  },
  {
   "cell_type": "code",
   "execution_count": 218,
   "id": "favorite-fabric",
   "metadata": {},
   "outputs": [
    {
     "data": {
      "text/plain": [
       "0.8882826638959014"
      ]
     },
     "execution_count": 218,
     "metadata": {},
     "output_type": "execute_result"
    }
   ],
   "source": [
    "b.mean()"
   ]
  },
  {
   "cell_type": "code",
   "execution_count": 219,
   "id": "soviet-implementation",
   "metadata": {},
   "outputs": [
    {
     "ename": "ValueError",
     "evalue": "operands could not be broadcast together with shapes (5,24222) (10,2,24222) ",
     "output_type": "error",
     "traceback": [
      "\u001b[1;31m---------------------------------------------------------------------------\u001b[0m",
      "\u001b[1;31mValueError\u001b[0m                                Traceback (most recent call last)",
      "\u001b[1;32m<ipython-input-219-5b81d2ece4a8>\u001b[0m in \u001b[0;36m<module>\u001b[1;34m\u001b[0m\n\u001b[1;32m----> 1\u001b[1;33m \u001b[0mgen\u001b[0m\u001b[1;33m[\u001b[0m\u001b[0mgen\u001b[0m \u001b[1;33m<\u001b[0m \u001b[0mb\u001b[0m\u001b[1;33m]\u001b[0m \u001b[1;33m=\u001b[0m \u001b[0mb\u001b[0m\u001b[1;33m[\u001b[0m\u001b[0mgen\u001b[0m \u001b[1;33m<\u001b[0m \u001b[0mb\u001b[0m\u001b[1;33m]\u001b[0m\u001b[1;33m\u001b[0m\u001b[1;33m\u001b[0m\u001b[0m\n\u001b[0m",
      "\u001b[1;31mValueError\u001b[0m: operands could not be broadcast together with shapes (5,24222) (10,2,24222) "
     ]
    }
   ],
   "source": [
    "gen[gen < b] = b[gen < b]"
   ]
  },
  {
   "cell_type": "code",
   "execution_count": 220,
   "id": "lasting-atlanta",
   "metadata": {},
   "outputs": [
    {
     "data": {
      "text/plain": [
       "(1, 23858)"
      ]
     },
     "execution_count": 220,
     "metadata": {},
     "output_type": "execute_result"
    }
   ],
   "source": [
    "xl_internal = np.load(r'C:\\Users\\salijona.dyrmishi\\constrained_malware_detection\\coeva2\\src\\xl_internal.npy')\n",
    "xl_internal.shape"
   ]
  },
  {
   "cell_type": "code",
   "execution_count": 221,
   "id": "funny-fetish",
   "metadata": {},
   "outputs": [
    {
     "data": {
      "text/plain": [
       "0.3999999999999999"
      ]
     },
     "execution_count": 221,
     "metadata": {},
     "output_type": "execute_result"
    }
   ],
   "source": [
    "xl_internal.min()"
   ]
  },
  {
   "cell_type": "code",
   "execution_count": 222,
   "id": "foster-candidate",
   "metadata": {},
   "outputs": [
    {
     "data": {
      "text/plain": [
       "'outside_bounds_x.npy'"
      ]
     },
     "execution_count": 222,
     "metadata": {},
     "output_type": "execute_result"
    }
   ],
   "source": [
    "\"outside_bounds_x.npy\""
   ]
  },
  {
   "cell_type": "code",
   "execution_count": 223,
   "id": "sublime-brisbane",
   "metadata": {},
   "outputs": [
    {
     "data": {
      "text/plain": [
       "(1, 23858)"
      ]
     },
     "execution_count": 223,
     "metadata": {},
     "output_type": "execute_result"
    }
   ],
   "source": [
    "x_out_bounds = np.load(r'C:\\Users\\salijona.dyrmishi\\constrained_malware_detection\\coeva2\\src\\outside_bounds_x.npy')\n",
    "x_out_bounds.shape "
   ]
  },
  {
   "cell_type": "code",
   "execution_count": 224,
   "id": "surprised-competition",
   "metadata": {},
   "outputs": [
    {
     "data": {
      "text/plain": [
       "(array([0, 0], dtype=int64), array([ 1941, 11199], dtype=int64))"
      ]
     },
     "execution_count": 224,
     "metadata": {},
     "output_type": "execute_result"
    }
   ],
   "source": [
    "np.where(np.isnan(x_out_bounds))"
   ]
  },
  {
   "cell_type": "code",
   "execution_count": 225,
   "id": "ordered-essay",
   "metadata": {},
   "outputs": [],
   "source": [
    "xl_internal_before = np.load(r'C:\\Users\\salijona.dyrmishi\\constrained_malware_detection\\coeva2\\src\\xl_internal_before.npy')"
   ]
  },
  {
   "cell_type": "code",
   "execution_count": 226,
   "id": "medical-growth",
   "metadata": {},
   "outputs": [
    {
     "data": {
      "text/plain": [
       "0.3999999999999999"
      ]
     },
     "execution_count": 226,
     "metadata": {},
     "output_type": "execute_result"
    }
   ],
   "source": [
    "xl_internal_before.min()"
   ]
  },
  {
   "cell_type": "code",
   "execution_count": 227,
   "id": "tutorial-questionnaire",
   "metadata": {},
   "outputs": [
    {
     "data": {
      "text/plain": [
       "(23858,)"
      ]
     },
     "execution_count": 227,
     "metadata": {},
     "output_type": "execute_result"
    }
   ],
   "source": [
    "xl_internal_before.shape"
   ]
  },
  {
   "cell_type": "code",
   "execution_count": 228,
   "id": "colonial-consumption",
   "metadata": {},
   "outputs": [
    {
     "name": "stderr",
     "output_type": "stream",
     "text": [
      "C:\\Users\\salijona.dyrmishi\\AppData\\Roaming\\Python\\Python37\\site-packages\\ipykernel_launcher.py:1: RuntimeWarning: invalid value encountered in less\n",
      "  \"\"\"Entry point for launching an IPython kernel.\n"
     ]
    }
   ],
   "source": [
    "x_out_bounds[x_out_bounds < xl_internal] = xl_internal[x_out_bounds < xl_internal]"
   ]
  },
  {
   "cell_type": "code",
   "execution_count": 229,
   "id": "sublime-excerpt",
   "metadata": {},
   "outputs": [],
   "source": [
    "prod = np.load(r'C:\\Users\\salijona.dyrmishi\\constrained_malware_detection\\coeva2\\src\\prod.npy')"
   ]
  },
  {
   "cell_type": "code",
   "execution_count": 230,
   "id": "dynamic-watson",
   "metadata": {},
   "outputs": [
    {
     "data": {
      "text/plain": [
       "(1, 23858)"
      ]
     },
     "execution_count": 230,
     "metadata": {},
     "output_type": "execute_result"
    }
   ],
   "source": [
    "prod.shape"
   ]
  },
  {
   "cell_type": "code",
   "execution_count": 231,
   "id": "copyrighted-melissa",
   "metadata": {},
   "outputs": [
    {
     "data": {
      "text/plain": [
       "array([[ 1.22551414e+00,  6.50380907e-01,  5.80391433e-02, ...,\n",
       "        -2.06698485e+21,  3.66530745e-01,  4.07423029e-01]])"
      ]
     },
     "execution_count": 231,
     "metadata": {},
     "output_type": "execute_result"
    }
   ],
   "source": [
    "prod"
   ]
  },
  {
   "cell_type": "code",
   "execution_count": 232,
   "id": "sacred-found",
   "metadata": {},
   "outputs": [
    {
     "data": {
      "text/plain": [
       "[0, 0, 0]"
      ]
     },
     "execution_count": 232,
     "metadata": {},
     "output_type": "execute_result"
    }
   ],
   "source": [
    "hey = list(np.where(prod>2)[0])\n",
    "hey"
   ]
  },
  {
   "cell_type": "code",
   "execution_count": 233,
   "id": "measured-prevention",
   "metadata": {},
   "outputs": [
    {
     "data": {
      "text/plain": [
       "array([1.09982653e+05, 7.59153166e+15, 7.60643861e+56])"
      ]
     },
     "execution_count": 233,
     "metadata": {},
     "output_type": "execute_result"
    }
   ],
   "source": [
    "prod[np.where(prod>2)]"
   ]
  },
  {
   "cell_type": "code",
   "execution_count": 234,
   "id": "juvenile-milan",
   "metadata": {},
   "outputs": [],
   "source": [
    "alpha = np.load(r'C:\\Users\\salijona.dyrmishi\\constrained_malware_detection\\coeva2\\src\\alpha.npy')"
   ]
  },
  {
   "cell_type": "code",
   "execution_count": 235,
   "id": "balanced-palace",
   "metadata": {},
   "outputs": [
    {
     "data": {
      "text/plain": [
       "array([3.64968526e+05, 2.18255025e+16, 9.24987688e+56])"
      ]
     },
     "execution_count": 235,
     "metadata": {},
     "output_type": "execute_result"
    }
   ],
   "source": [
    "alpha[np.where(prod>2)]"
   ]
  },
  {
   "cell_type": "code",
   "execution_count": 236,
   "id": "scenic-purple",
   "metadata": {},
   "outputs": [
    {
     "data": {
      "text/plain": [
       "2.9999999884515973"
      ]
     },
     "execution_count": 236,
     "metadata": {},
     "output_type": "execute_result"
    }
   ],
   "source": [
    "alpha[np.where(prod<=2)].max()"
   ]
  },
  {
   "cell_type": "code",
   "execution_count": 237,
   "id": "numerous-hotel",
   "metadata": {},
   "outputs": [],
   "source": [
    "beta = np.load(r'C:\\Users\\salijona.dyrmishi\\constrained_malware_detection\\coeva2\\src\\beta.npy')"
   ]
  },
  {
   "cell_type": "code",
   "execution_count": 238,
   "id": "restricted-large",
   "metadata": {},
   "outputs": [
    {
     "data": {
      "text/plain": [
       "array([-0.66156494, -0.29712325, -0.01453392])"
      ]
     },
     "execution_count": 238,
     "metadata": {},
     "output_type": "execute_result"
    }
   ],
   "source": [
    "beta[np.where(prod>2)]"
   ]
  },
  {
   "cell_type": "code",
   "execution_count": 239,
   "id": "separated-frederick",
   "metadata": {},
   "outputs": [
    {
     "name": "stdout",
     "output_type": "stream",
     "text": [
      "-7999999998.999998\n",
      "12000000001.000002\n"
     ]
    }
   ],
   "source": [
    "print(beta[np.where(prod<=2)].min())\n",
    "print(beta[np.where(prod<=2)].max())"
   ]
  },
  {
   "cell_type": "code",
   "execution_count": 240,
   "id": "respected-hollow",
   "metadata": {},
   "outputs": [
    {
     "data": {
      "text/plain": [
       "array([-8.00000000e+09, -8.00000000e+09, -8.00000000e+09, -8.00000000e+09,\n",
       "       -8.00000000e+09, -8.00000000e+09, -8.00000000e+09, -8.00000000e+09,\n",
       "       -8.00000000e+09, -8.00000000e+09, -1.00000000e+00, -8.00000000e+09,\n",
       "       -8.00000000e+09, -8.00000000e+09, -8.00000000e+09, -8.00000000e+09,\n",
       "       -8.00000000e+09, -8.00000000e+09, -8.00000000e+09, -8.00000000e+09,\n",
       "       -8.00000000e+09, -8.00000000e+09, -8.00000000e+09, -8.00000000e+09,\n",
       "       -8.00000000e+09, -8.00000000e+09, -8.00000000e+09, -8.00000000e+09,\n",
       "       -8.00000000e+09, -8.00000000e+09, -8.00000000e+09, -8.00000000e+09,\n",
       "       -8.00000000e+09, -8.00000000e+09, -8.00000000e+09, -8.00000000e+09,\n",
       "       -8.00000000e+09, -8.00000000e+09, -8.00000000e+09, -8.00000000e+09,\n",
       "       -8.00000000e+09, -8.00000000e+09, -8.00000000e+09, -8.00000000e+09,\n",
       "       -8.00000000e+09, -8.00000000e+09, -8.00000000e+09, -8.00000000e+09,\n",
       "       -8.00000000e+09, -8.00000000e+09, -8.00000000e+09, -8.00000000e+09,\n",
       "       -8.00000000e+09, -8.00000000e+09, -8.00000000e+09, -8.00000000e+09,\n",
       "       -8.00000000e+09, -8.00000000e+09, -8.00000000e+09, -8.00000000e+09,\n",
       "       -8.00000000e+09, -8.00000000e+09, -6.61564942e-01, -8.00000000e+09,\n",
       "       -8.00000000e+09, -2.97123250e-01, -8.00000000e+09, -8.00000000e+09,\n",
       "       -8.00000000e+09, -8.00000000e+09, -8.00000000e+09, -8.00000000e+09,\n",
       "       -8.00000000e+09, -8.00000000e+09, -8.00000000e+09, -8.00000000e+09,\n",
       "       -8.00000000e+09, -8.00000000e+09, -8.00000000e+09, -8.00000000e+09,\n",
       "       -8.00000000e+09, -8.00000000e+09, -8.00000000e+09, -8.00000000e+09,\n",
       "       -8.00000000e+09, -8.00000000e+09, -8.00000000e+09, -8.00000000e+09,\n",
       "       -8.00000000e+09, -8.00000000e+09, -8.00000000e+09, -8.00000000e+09,\n",
       "       -8.00000000e+09, -8.00000000e+09, -8.00000000e+09, -8.00000000e+09,\n",
       "       -8.00000000e+09, -8.00000000e+09, -8.00000000e+09, -8.00000000e+09,\n",
       "       -8.00000000e+09, -8.00000000e+09, -8.00000000e+09, -8.00000000e+09,\n",
       "       -8.00000000e+09, -8.00000000e+09, -8.00000000e+09, -8.00000000e+09,\n",
       "       -8.00000000e+09, -8.00000000e+09, -8.00000000e+09, -8.00000000e+09,\n",
       "       -8.00000000e+09, -8.00000000e+09, -8.00000000e+09, -8.00000000e+09,\n",
       "       -8.00000000e+09, -8.00000000e+09, -8.00000000e+09, -8.00000000e+09,\n",
       "       -8.00000000e+09, -8.00000000e+09, -8.00000000e+09, -8.00000000e+09,\n",
       "       -8.00000000e+09, -8.00000000e+09, -8.00000000e+09, -8.00000000e+09,\n",
       "       -8.00000000e+09, -8.00000000e+09, -8.00000000e+09, -8.00000000e+09,\n",
       "       -8.00000000e+09, -8.00000000e+09, -8.00000000e+09, -8.00000000e+09,\n",
       "       -8.00000000e+09, -8.00000000e+09, -1.00000000e+00, -8.00000000e+09,\n",
       "       -8.00000000e+09, -8.00000000e+09, -8.00000000e+09, -8.00000000e+09,\n",
       "       -8.00000000e+09, -8.00000000e+09, -8.00000000e+09, -8.00000000e+09,\n",
       "       -8.00000000e+09, -8.00000000e+09, -8.00000000e+09, -8.00000000e+09,\n",
       "       -8.00000000e+09, -8.00000000e+09, -8.00000000e+09, -8.00000000e+09,\n",
       "       -8.00000000e+09, -8.00000000e+09, -8.00000000e+09, -8.00000000e+09,\n",
       "       -8.00000000e+09, -8.00000000e+09, -8.00000000e+09, -8.00000000e+09,\n",
       "       -8.00000000e+09, -8.00000000e+09, -8.00000000e+09, -8.00000000e+09,\n",
       "       -8.00000000e+09, -8.00000000e+09, -8.00000000e+09, -8.00000000e+09,\n",
       "       -8.00000000e+09, -8.00000000e+09, -8.00000000e+09, -8.00000000e+09,\n",
       "       -8.00000000e+09, -8.00000000e+09, -8.00000000e+09, -8.00000000e+09,\n",
       "       -8.00000000e+09, -8.00000000e+09, -8.00000000e+09, -8.00000000e+09,\n",
       "       -8.00000000e+09, -8.00000000e+09, -8.00000000e+09, -8.00000000e+09,\n",
       "       -8.00000000e+09, -8.00000000e+09, -8.00000000e+09, -8.00000000e+09,\n",
       "       -8.00000000e+09, -8.00000000e+09, -8.00000000e+09, -8.00000000e+09,\n",
       "       -8.00000000e+09, -8.00000000e+09, -8.00000000e+09, -8.00000000e+09,\n",
       "       -8.00000000e+09, -8.00000000e+09, -1.00000000e+00, -8.00000000e+09,\n",
       "       -8.00000000e+09, -8.00000000e+09, -8.00000000e+09, -8.00000000e+09,\n",
       "       -8.00000000e+09, -8.00000000e+09, -8.00000000e+09, -8.00000000e+09,\n",
       "       -8.00000000e+09, -8.00000000e+09, -8.00000000e+09, -8.00000000e+09,\n",
       "       -8.00000000e+09, -8.00000000e+09, -8.00000000e+09, -8.00000000e+09,\n",
       "       -8.00000000e+09, -8.00000000e+09, -8.00000000e+09, -8.00000000e+09,\n",
       "       -8.00000000e+09, -8.00000000e+09, -8.00000000e+09, -8.00000000e+09,\n",
       "       -8.00000000e+09, -8.00000000e+09, -8.00000000e+09, -8.00000000e+09,\n",
       "       -8.00000000e+09, -8.00000000e+09, -8.00000000e+09, -8.00000000e+09,\n",
       "       -8.00000000e+09, -8.00000000e+09, -1.00000000e+00, -8.00000000e+09,\n",
       "       -8.00000000e+09, -8.00000000e+09, -8.00000000e+09, -8.00000000e+09,\n",
       "       -8.00000000e+09, -8.00000000e+09, -8.00000000e+09, -8.00000000e+09,\n",
       "       -8.00000000e+09, -8.00000000e+09, -8.00000000e+09, -8.00000000e+09,\n",
       "       -8.00000000e+09, -8.00000000e+09, -8.00000000e+09, -8.00000000e+09,\n",
       "       -8.00000000e+09, -8.00000000e+09, -8.00000000e+09, -8.00000000e+09,\n",
       "       -8.00000000e+09, -8.00000000e+09, -8.00000000e+09, -8.00000000e+09,\n",
       "       -8.00000000e+09, -8.00000000e+09, -8.00000000e+09, -8.00000000e+09,\n",
       "       -8.00000000e+09, -8.00000000e+09, -8.00000000e+09, -8.00000000e+09,\n",
       "       -8.00000000e+09, -8.00000000e+09, -8.00000000e+09, -8.00000000e+09,\n",
       "       -8.00000000e+09, -8.00000000e+09, -8.00000000e+09, -8.00000000e+09,\n",
       "       -8.00000000e+09, -8.00000000e+09, -8.00000000e+09, -8.00000000e+09,\n",
       "       -8.00000000e+09, -8.00000000e+09, -8.00000000e+09, -8.00000000e+09,\n",
       "       -8.00000000e+09, -8.00000000e+09, -8.00000000e+09, -8.00000000e+09,\n",
       "       -8.00000000e+09, -8.00000000e+09, -8.00000000e+09, -8.00000000e+09,\n",
       "       -8.00000000e+09, -8.00000000e+09, -8.00000000e+09, -8.00000000e+09,\n",
       "       -8.00000000e+09, -8.00000000e+09, -8.00000000e+09, -8.00000000e+09,\n",
       "       -8.00000000e+09, -8.00000000e+09, -8.00000000e+09, -8.00000000e+09,\n",
       "       -8.00000000e+09, -8.00000000e+09, -8.00000000e+09, -8.00000000e+09,\n",
       "       -8.00000000e+09, -8.00000000e+09, -8.00000000e+09, -8.00000000e+09,\n",
       "       -8.00000000e+09, -8.00000000e+09, -8.00000000e+09, -8.00000000e+09,\n",
       "       -8.00000000e+09, -8.00000000e+09, -8.00000000e+09, -8.00000000e+09,\n",
       "       -8.00000000e+09, -8.00000000e+09, -8.00000000e+09, -8.00000000e+09,\n",
       "       -8.00000000e+09, -8.00000000e+09, -8.00000000e+09, -8.00000000e+09,\n",
       "       -8.00000000e+09, -8.00000000e+09, -8.00000000e+09, -8.00000000e+09,\n",
       "       -8.00000000e+09, -8.00000000e+09, -8.00000000e+09, -8.00000000e+09,\n",
       "       -8.00000000e+09, -8.00000000e+09, -8.00000000e+09, -8.00000000e+09,\n",
       "       -8.00000000e+09, -8.00000000e+09, -8.00000000e+09, -8.00000000e+09,\n",
       "       -8.00000000e+09, -8.00000000e+09, -8.00000000e+09, -8.00000000e+09,\n",
       "       -8.00000000e+09, -8.00000000e+09, -8.00000000e+09, -8.00000000e+09,\n",
       "       -8.00000000e+09, -8.00000000e+09, -8.00000000e+09, -8.00000000e+09,\n",
       "       -8.00000000e+09, -8.00000000e+09, -8.00000000e+09, -8.00000000e+09,\n",
       "       -8.00000000e+09, -8.00000000e+09, -8.00000000e+09, -8.00000000e+09,\n",
       "       -8.00000000e+09, -8.00000000e+09, -8.00000000e+09, -8.00000000e+09,\n",
       "       -8.00000000e+09, -8.00000000e+09, -1.45339182e-02, -8.00000000e+09,\n",
       "       -8.00000000e+09, -8.00000000e+09, -8.00000000e+09, -8.00000000e+09,\n",
       "       -8.00000000e+09, -8.00000000e+09, -8.00000000e+09, -8.00000000e+09,\n",
       "       -8.00000000e+09, -8.00000000e+09, -1.00000000e+00, -8.00000000e+09,\n",
       "       -8.00000000e+09, -8.00000000e+09, -8.00000000e+09, -8.00000000e+09,\n",
       "       -8.00000000e+09, -8.00000000e+09, -8.00000000e+09, -8.00000000e+09,\n",
       "       -8.00000000e+09, -8.00000000e+09, -8.00000000e+09, -8.00000000e+09,\n",
       "       -8.00000000e+09, -8.00000000e+09, -8.00000000e+09, -8.00000000e+09,\n",
       "       -8.00000000e+09, -8.00000000e+09, -8.00000000e+09, -8.00000000e+09,\n",
       "       -8.00000000e+09, -8.00000000e+09, -8.00000000e+09, -8.00000000e+09,\n",
       "       -8.00000000e+09, -8.00000000e+09, -8.00000000e+09, -1.00000000e+00,\n",
       "       -8.00000000e+09, -8.00000000e+09, -8.00000000e+09, -8.00000000e+09,\n",
       "       -8.00000000e+09, -8.00000000e+09, -8.00000000e+09, -8.00000000e+09,\n",
       "       -8.00000000e+09, -8.00000000e+09, -8.00000000e+09, -8.00000000e+09,\n",
       "       -8.00000000e+09, -8.00000000e+09, -8.00000000e+09, -8.00000000e+09,\n",
       "       -8.00000000e+09, -8.00000000e+09, -8.00000000e+09, -8.00000000e+09,\n",
       "       -8.00000000e+09, -8.00000000e+09, -8.00000000e+09, -8.00000000e+09,\n",
       "       -8.00000000e+09, -8.00000000e+09, -8.00000000e+09, -8.00000000e+09,\n",
       "       -8.00000000e+09, -8.00000000e+09, -8.00000000e+09, -8.00000000e+09,\n",
       "       -8.00000000e+09, -8.00000000e+09, -8.00000000e+09, -8.00000000e+09,\n",
       "       -8.00000000e+09, -8.00000000e+09, -8.00000000e+09, -8.00000000e+09,\n",
       "       -8.00000000e+09, -8.00000000e+09, -8.00000000e+09, -8.00000000e+09,\n",
       "       -8.00000000e+09, -8.00000000e+09, -8.00000000e+09, -8.00000000e+09,\n",
       "       -8.00000000e+09, -8.00000000e+09, -8.00000000e+09, -8.00000000e+09,\n",
       "       -8.00000000e+09, -1.00000000e+00, -8.00000000e+09, -8.00000000e+09,\n",
       "       -8.00000000e+09, -8.00000000e+09, -8.00000000e+09, -8.00000000e+09,\n",
       "       -8.00000000e+09, -1.00000000e+00, -8.00000000e+09, -8.00000000e+09,\n",
       "       -8.00000000e+09, -8.00000000e+09, -8.00000000e+09, -8.00000000e+09,\n",
       "       -8.00000000e+09, -1.00000000e+00, -8.00000000e+09, -8.00000000e+09,\n",
       "       -8.00000000e+09, -8.00000000e+09, -8.00000000e+09, -8.00000000e+09,\n",
       "       -8.00000000e+09, -8.00000000e+09, -8.00000000e+09, -8.00000000e+09,\n",
       "       -8.00000000e+09, -8.00000000e+09, -8.00000000e+09, -8.00000000e+09,\n",
       "       -8.00000000e+09, -8.00000000e+09, -8.00000000e+09, -8.00000000e+09,\n",
       "       -8.00000000e+09, -8.00000000e+09, -8.00000000e+09, -8.00000000e+09,\n",
       "       -8.00000000e+09, -8.00000000e+09, -8.00000000e+09, -8.00000000e+09,\n",
       "       -8.00000000e+09, -8.00000000e+09, -8.00000000e+09, -8.00000000e+09,\n",
       "       -8.00000000e+09, -8.00000000e+09, -8.00000000e+09, -8.00000000e+09,\n",
       "       -8.00000000e+09, -8.00000000e+09, -8.00000000e+09, -8.00000000e+09,\n",
       "       -8.00000000e+09, -8.00000000e+09, -8.00000000e+09, -8.00000000e+09,\n",
       "       -8.00000000e+09, -8.00000000e+09, -8.00000000e+09, -8.00000000e+09,\n",
       "       -8.00000000e+09, -8.00000000e+09, -8.00000000e+09, -8.00000000e+09,\n",
       "       -8.00000000e+09, -8.00000000e+09, -8.00000000e+09, -8.00000000e+09,\n",
       "       -8.00000000e+09, -8.00000000e+09, -8.00000000e+09, -8.00000000e+09,\n",
       "       -8.00000000e+09, -8.00000000e+09, -8.00000000e+09, -8.00000000e+09,\n",
       "       -8.00000000e+09, -8.00000000e+09, -8.00000000e+09, -8.00000000e+09,\n",
       "       -8.00000000e+09, -8.00000000e+09, -8.00000000e+09, -8.00000000e+09,\n",
       "       -8.00000000e+09, -8.00000000e+09, -8.00000000e+09, -8.00000000e+09,\n",
       "       -8.00000000e+09, -8.00000000e+09, -8.00000000e+09, -8.00000000e+09,\n",
       "       -8.00000000e+09, -8.00000000e+09, -8.00000000e+09, -8.00000000e+09,\n",
       "       -8.00000000e+09, -8.00000000e+09, -8.00000000e+09, -8.00000000e+09,\n",
       "       -8.00000000e+09, -8.00000000e+09, -8.00000000e+09, -8.00000000e+09,\n",
       "       -8.00000000e+09, -8.00000000e+09, -8.00000000e+09, -8.00000000e+09,\n",
       "       -8.00000000e+09, -8.00000000e+09, -8.00000000e+09, -8.00000000e+09,\n",
       "       -8.00000000e+09, -8.00000000e+09, -8.00000000e+09, -8.00000000e+09,\n",
       "       -8.00000000e+09, -8.00000000e+09, -8.00000000e+09, -8.00000000e+09,\n",
       "       -8.00000000e+09, -8.00000000e+09, -8.00000000e+09, -8.00000000e+09,\n",
       "       -8.00000000e+09, -8.00000000e+09, -8.00000000e+09, -8.00000000e+09,\n",
       "       -8.00000000e+09, -8.00000000e+09, -8.00000000e+09, -8.00000000e+09,\n",
       "       -8.00000000e+09, -8.00000000e+09, -8.00000000e+09, -8.00000000e+09,\n",
       "       -8.00000000e+09, -8.00000000e+09, -8.00000000e+09, -8.00000000e+09,\n",
       "       -8.00000000e+09, -8.00000000e+09, -8.00000000e+09, -8.00000000e+09,\n",
       "       -8.00000000e+09, -8.00000000e+09, -8.00000000e+09, -8.00000000e+09,\n",
       "       -8.00000000e+09, -8.00000000e+09, -8.00000000e+09, -8.00000000e+09,\n",
       "       -8.00000000e+09, -8.00000000e+09, -8.00000000e+09, -8.00000000e+09,\n",
       "       -8.00000000e+09, -8.00000000e+09, -8.00000000e+09, -8.00000000e+09,\n",
       "       -8.00000000e+09, -8.00000000e+09, -8.00000000e+09, -8.00000000e+09,\n",
       "       -8.00000000e+09, -8.00000000e+09, -8.00000000e+09, -8.00000000e+09,\n",
       "       -8.00000000e+09, -8.00000000e+09, -8.00000000e+09, -8.00000000e+09,\n",
       "       -8.00000000e+09, -8.00000000e+09, -8.00000000e+09, -8.00000000e+09,\n",
       "       -8.00000000e+09, -8.00000000e+09, -8.00000000e+09, -8.00000000e+09,\n",
       "       -8.00000000e+09, -8.00000000e+09, -8.00000000e+09, -8.00000000e+09,\n",
       "       -8.00000000e+09, -8.00000000e+09, -8.00000000e+09, -8.00000000e+09,\n",
       "       -8.00000000e+09, -8.00000000e+09, -8.00000000e+09, -8.00000000e+09,\n",
       "       -8.00000000e+09, -8.00000000e+09, -8.00000000e+09, -8.00000000e+09,\n",
       "       -8.00000000e+09, -8.00000000e+09, -8.00000000e+09, -8.00000000e+09,\n",
       "       -8.00000000e+09, -8.00000000e+09, -8.00000000e+09, -8.00000000e+09,\n",
       "       -8.00000000e+09, -8.00000000e+09, -8.00000000e+09, -8.00000000e+09,\n",
       "       -8.00000000e+09, -8.00000000e+09, -8.00000000e+09, -8.00000000e+09,\n",
       "       -8.00000000e+09, -8.00000000e+09, -8.00000000e+09, -8.00000000e+09,\n",
       "       -8.00000000e+09, -8.00000000e+09, -8.00000000e+09, -8.00000000e+09,\n",
       "       -8.00000000e+09, -8.00000000e+09, -8.00000000e+09, -8.00000000e+09,\n",
       "       -8.00000000e+09, -8.00000000e+09, -8.00000000e+09, -8.00000000e+09,\n",
       "       -8.00000000e+09, -8.00000000e+09, -8.00000000e+09, -8.00000000e+09,\n",
       "       -8.00000000e+09, -8.00000000e+09, -8.00000000e+09, -8.00000000e+09,\n",
       "       -8.00000000e+09, -8.00000000e+09, -8.00000000e+09, -8.00000000e+09,\n",
       "       -8.00000000e+09, -8.00000000e+09, -8.00000000e+09, -8.00000000e+09,\n",
       "       -8.00000000e+09, -8.00000000e+09, -8.00000000e+09, -8.00000000e+09,\n",
       "       -8.00000000e+09, -8.00000000e+09, -8.00000000e+09, -8.00000000e+09,\n",
       "       -8.00000000e+09, -8.00000000e+09, -8.00000000e+09, -8.00000000e+09,\n",
       "       -8.00000000e+09, -8.00000000e+09, -8.00000000e+09, -8.00000000e+09,\n",
       "       -8.00000000e+09, -8.00000000e+09, -8.00000000e+09, -8.00000000e+09,\n",
       "       -8.00000000e+09, -8.00000000e+09, -8.00000000e+09, -8.00000000e+09,\n",
       "       -8.00000000e+09, -8.00000000e+09, -8.00000000e+09, -8.00000000e+09,\n",
       "       -8.00000000e+09, -8.00000000e+09, -8.00000000e+09, -8.00000000e+09,\n",
       "       -8.00000000e+09, -8.00000000e+09, -8.00000000e+09, -8.00000000e+09,\n",
       "       -8.00000000e+09, -8.00000000e+09, -8.00000000e+09, -8.00000000e+09,\n",
       "       -8.00000000e+09, -8.00000000e+09, -8.00000000e+09, -8.00000000e+09,\n",
       "       -8.00000000e+09, -8.00000000e+09, -8.00000000e+09, -8.00000000e+09,\n",
       "       -8.00000000e+09, -8.00000000e+09, -8.00000000e+09, -8.00000000e+09,\n",
       "       -8.00000000e+09, -8.00000000e+09, -8.00000000e+09, -8.00000000e+09,\n",
       "       -8.00000000e+09, -8.00000000e+09, -8.00000000e+09, -8.00000000e+09,\n",
       "       -8.00000000e+09, -8.00000000e+09, -8.00000000e+09, -8.00000000e+09,\n",
       "       -8.00000000e+09, -8.00000000e+09, -8.00000000e+09, -8.00000000e+09,\n",
       "       -8.00000000e+09, -8.00000000e+09, -8.00000000e+09, -8.00000000e+09,\n",
       "       -8.00000000e+09, -8.00000000e+09, -8.00000000e+09, -8.00000000e+09,\n",
       "       -8.00000000e+09, -8.00000000e+09, -8.00000000e+09, -8.00000000e+09,\n",
       "       -8.00000000e+09, -8.00000000e+09, -8.00000000e+09, -8.00000000e+09,\n",
       "       -8.00000000e+09, -1.00000000e+00, -8.00000000e+09, -8.00000000e+09,\n",
       "       -8.00000000e+09, -8.00000000e+09, -8.00000000e+09])"
      ]
     },
     "execution_count": 240,
     "metadata": {},
     "output_type": "execute_result"
    }
   ],
   "source": [
    "beta[beta<0]"
   ]
  },
  {
   "cell_type": "code",
   "execution_count": 249,
   "id": "earlier-receiver",
   "metadata": {},
   "outputs": [],
   "source": [
    "delta = np.load(r'C:\\Users\\salijona.dyrmishi\\constrained_malware_detection\\coeva2\\src\\delta.npy')"
   ]
  },
  {
   "cell_type": "code",
   "execution_count": 250,
   "id": "champion-figure",
   "metadata": {},
   "outputs": [
    {
     "data": {
      "text/plain": [
       "array([2.58489282e+09, 3.31114819e+09, 4.23343884e+09])"
      ]
     },
     "execution_count": 250,
     "metadata": {},
     "output_type": "execute_result"
    }
   ],
   "source": [
    "delta[np.where(prod>2)]"
   ]
  },
  {
   "cell_type": "code",
   "execution_count": 251,
   "id": "under-forest",
   "metadata": {},
   "outputs": [],
   "source": [
    "diff = np.load(r'C:\\Users\\salijona.dyrmishi\\constrained_malware_detection\\coeva2\\src\\diff.npy')"
   ]
  },
  {
   "cell_type": "code",
   "execution_count": 252,
   "id": "legendary-breakfast",
   "metadata": {},
   "outputs": [
    {
     "data": {
      "text/plain": [
       "array([-2.14748365e+09, -2.14748365e+09, -2.14748365e+09])"
      ]
     },
     "execution_count": 252,
     "metadata": {},
     "output_type": "execute_result"
    }
   ],
   "source": [
    "diff[np.where(prod>2)]"
   ]
  },
  {
   "cell_type": "code",
   "execution_count": 253,
   "id": "industrial-georgia",
   "metadata": {},
   "outputs": [],
   "source": [
    "xl_comp = np.load(r'C:\\Users\\salijona.dyrmishi\\constrained_malware_detection\\coeva2\\src\\xl_comparison.npy')"
   ]
  },
  {
   "cell_type": "code",
   "execution_count": 254,
   "id": "perceived-trail",
   "metadata": {},
   "outputs": [
    {
     "data": {
      "text/plain": [
       "0.3999999999999999"
      ]
     },
     "execution_count": 254,
     "metadata": {},
     "output_type": "execute_result"
    }
   ],
   "source": [
    "xl_comp.min()"
   ]
  },
  {
   "cell_type": "code",
   "execution_count": 255,
   "id": "funny-termination",
   "metadata": {},
   "outputs": [
    {
     "data": {
      "text/plain": [
       "268.4"
      ]
     },
     "execution_count": 255,
     "metadata": {},
     "output_type": "execute_result"
    }
   ],
   "source": [
    "xl_comp.max()"
   ]
  },
  {
   "cell_type": "code",
   "execution_count": 256,
   "id": "central-tractor",
   "metadata": {},
   "outputs": [],
   "source": [
    "y1 = np.load(r'C:\\Users\\salijona.dyrmishi\\constrained_malware_detection\\coeva2\\src\\y1.npy')"
   ]
  },
  {
   "cell_type": "code",
   "execution_count": null,
   "id": "planned-vulnerability",
   "metadata": {},
   "outputs": [],
   "source": []
  },
  {
   "cell_type": "code",
   "execution_count": 257,
   "id": "taken-honor",
   "metadata": {},
   "outputs": [
    {
     "data": {
      "text/plain": [
       "-2147483648.0"
      ]
     },
     "execution_count": 257,
     "metadata": {},
     "output_type": "execute_result"
    }
   ],
   "source": [
    "y1.min()"
   ]
  },
  {
   "cell_type": "code",
   "execution_count": 258,
   "id": "efficient-option",
   "metadata": {},
   "outputs": [
    {
     "data": {
      "text/plain": [
       "array([-2.14748365e+09, -2.14748365e+09, -2.14748365e+09, -2.14748365e+09,\n",
       "       -2.14748365e+09, -2.14748365e+09, -2.14748365e+09, -2.14748365e+09,\n",
       "       -2.14748365e+09, -2.14748365e+09, -2.14748365e+09, -2.14748365e+09,\n",
       "       -2.14748365e+09])"
      ]
     },
     "execution_count": 258,
     "metadata": {},
     "output_type": "execute_result"
    }
   ],
   "source": [
    "y1[np.where(y1<0)]"
   ]
  },
  {
   "cell_type": "code",
   "execution_count": 259,
   "id": "rocky-glenn",
   "metadata": {},
   "outputs": [
    {
     "data": {
      "text/plain": [
       "1508994987.0"
      ]
     },
     "execution_count": 259,
     "metadata": {},
     "output_type": "execute_result"
    }
   ],
   "source": [
    "y1.max()"
   ]
  },
  {
   "cell_type": "code",
   "execution_count": null,
   "id": "sorted-grace",
   "metadata": {},
   "outputs": [],
   "source": []
  },
  {
   "cell_type": "code",
   "execution_count": null,
   "id": "private-wilson",
   "metadata": {},
   "outputs": [],
   "source": []
  },
  {
   "cell_type": "code",
   "execution_count": 260,
   "id": "official-ozone",
   "metadata": {},
   "outputs": [],
   "source": [
    "xl_outside = np.load(r'C:\\Users\\salijona.dyrmishi\\constrained_malware_detection\\coeva2\\src\\xl_outside.npy')"
   ]
  },
  {
   "cell_type": "code",
   "execution_count": 261,
   "id": "composite-invitation",
   "metadata": {},
   "outputs": [
    {
     "data": {
      "text/plain": [
       "0.0"
      ]
     },
     "execution_count": 261,
     "metadata": {},
     "output_type": "execute_result"
    }
   ],
   "source": [
    "xl_outside.min()"
   ]
  },
  {
   "cell_type": "code",
   "execution_count": 262,
   "id": "nonprofit-rotation",
   "metadata": {},
   "outputs": [],
   "source": [
    "y2= delta+y1"
   ]
  },
  {
   "cell_type": "code",
   "execution_count": 263,
   "id": "searching-swedish",
   "metadata": {},
   "outputs": [
    {
     "data": {
      "text/plain": [
       "array([1., 1., 1., ..., 1., 1., 1.])"
      ]
     },
     "execution_count": 263,
     "metadata": {},
     "output_type": "execute_result"
    }
   ],
   "source": [
    "y2[y2>1]"
   ]
  },
  {
   "cell_type": "code",
   "execution_count": 264,
   "id": "greenhouse-cleaners",
   "metadata": {},
   "outputs": [
    {
     "data": {
      "text/plain": [
       "array([4.37409177e+08, 1.16366454e+09, 2.08595520e+09])"
      ]
     },
     "execution_count": 264,
     "metadata": {},
     "output_type": "execute_result"
    }
   ],
   "source": [
    "y2[np.where(prod>2)]"
   ]
  },
  {
   "cell_type": "code",
   "execution_count": 265,
   "id": "floral-crack",
   "metadata": {},
   "outputs": [
    {
     "data": {
      "text/plain": [
       "array([-2.14748365e+09, -2.14748365e+09, -2.14748365e+09])"
      ]
     },
     "execution_count": 265,
     "metadata": {},
     "output_type": "execute_result"
    }
   ],
   "source": [
    "y1[np.where(prod>2)]"
   ]
  },
  {
   "cell_type": "code",
   "execution_count": 266,
   "id": "capital-gibraltar",
   "metadata": {},
   "outputs": [
    {
     "data": {
      "text/plain": [
       "1508994987.0"
      ]
     },
     "execution_count": 266,
     "metadata": {},
     "output_type": "execute_result"
    }
   ],
   "source": [
    "y1.max()"
   ]
  },
  {
   "cell_type": "code",
   "execution_count": 267,
   "id": "heard-skirt",
   "metadata": {},
   "outputs": [
    {
     "data": {
      "text/plain": [
       "663870.428367843"
      ]
     },
     "execution_count": 267,
     "metadata": {},
     "output_type": "execute_result"
    }
   ],
   "source": [
    "y2.mean()"
   ]
  },
  {
   "cell_type": "code",
   "execution_count": 268,
   "id": "consolidated-meter",
   "metadata": {},
   "outputs": [
    {
     "data": {
      "text/plain": [
       "[1e-10,\n",
       " 1e-10,\n",
       " 1e-10,\n",
       " 1e-10,\n",
       " 1e-10,\n",
       " 1e-10,\n",
       " 1e-10,\n",
       " 1e-10,\n",
       " 1e-10,\n",
       " 1e-10,\n",
       " 1e-10,\n",
       " 1.0,\n",
       " 1e-10,\n",
       " 1e-10,\n",
       " 1e-10,\n",
       " 1e-10,\n",
       " 1e-10,\n",
       " 1.0,\n",
       " 1e-10,\n",
       " 1e-10,\n",
       " 1e-10,\n",
       " 1e-10,\n",
       " 1e-10,\n",
       " 1e-10,\n",
       " 1e-10,\n",
       " 1e-10,\n",
       " 1e-10,\n",
       " 1e-10,\n",
       " 1.0,\n",
       " 1e-10,\n",
       " 1e-10,\n",
       " 1e-10,\n",
       " 1e-10,\n",
       " 1e-10,\n",
       " 1.0,\n",
       " 1e-10,\n",
       " 1e-10,\n",
       " 1.0,\n",
       " 6856911.0,\n",
       " 1e-10,\n",
       " 1e-10,\n",
       " 1e-10,\n",
       " 1e-10,\n",
       " 1.0,\n",
       " 1e-10,\n",
       " 1e-10,\n",
       " 1e-10,\n",
       " 1e-10,\n",
       " 1e-10,\n",
       " 1e-10,\n",
       " 1e-10,\n",
       " 1e-10,\n",
       " 1e-10,\n",
       " 1e-10,\n",
       " 1e-10,\n",
       " 1e-10,\n",
       " 1e-10,\n",
       " 1e-10,\n",
       " 1e-10,\n",
       " 1e-10,\n",
       " 1e-10,\n",
       " 1e-10,\n",
       " 1e-10,\n",
       " 1e-10,\n",
       " 1e-10,\n",
       " 617.0,\n",
       " 1e-10,\n",
       " 1e-10,\n",
       " 1e-10,\n",
       " 1e-10,\n",
       " 1e-10,\n",
       " 1e-10,\n",
       " 1.0,\n",
       " 1e-10,\n",
       " 1e-10,\n",
       " 1e-10,\n",
       " 1e-10,\n",
       " 1e-10,\n",
       " 1e-10,\n",
       " 1e-10,\n",
       " 1e-10,\n",
       " 1e-10,\n",
       " 1e-10,\n",
       " 1e-10,\n",
       " 1e-10,\n",
       " 1e-10,\n",
       " 1e-10,\n",
       " 1e-10,\n",
       " 1e-10,\n",
       " 1e-10,\n",
       " 1e-10,\n",
       " 1e-10,\n",
       " 1.0,\n",
       " 1e-10,\n",
       " 1.0,\n",
       " 1e-10,\n",
       " 1e-10,\n",
       " 13.0,\n",
       " 1e-10,\n",
       " 1e-10,\n",
       " 1e-10,\n",
       " 1e-10,\n",
       " 1.0,\n",
       " 1e-10,\n",
       " 1.0,\n",
       " 1e-10,\n",
       " 1.0,\n",
       " 1e-10,\n",
       " 1e-10,\n",
       " 1e-10,\n",
       " 1e-10,\n",
       " 1e-10,\n",
       " 1.0,\n",
       " 1e-10,\n",
       " 25728672.0,\n",
       " 1e-10,\n",
       " 1e-10,\n",
       " 1e-10,\n",
       " 1e-10,\n",
       " 1e-10,\n",
       " 1e-10,\n",
       " 1e-10,\n",
       " 1e-10,\n",
       " 1e-10,\n",
       " 1e-10,\n",
       " 1e-10,\n",
       " 1e-10,\n",
       " 391781252.0,\n",
       " 1.0,\n",
       " 1e-10,\n",
       " 1.0,\n",
       " 1e-10,\n",
       " 1e-10,\n",
       " 1.0,\n",
       " 1e-10,\n",
       " 1e-10,\n",
       " 1e-10,\n",
       " 1e-10,\n",
       " 1e-10,\n",
       " 1.0,\n",
       " 1e-10,\n",
       " 1e-10,\n",
       " 1e-10,\n",
       " 1e-10,\n",
       " 1e-10,\n",
       " 1e-10,\n",
       " 1e-10,\n",
       " 1e-10,\n",
       " 1e-10,\n",
       " 1e-10,\n",
       " 1.0,\n",
       " 1e-10,\n",
       " 1e-10,\n",
       " 1e-10,\n",
       " 1e-10,\n",
       " 1e-10,\n",
       " 1e-10,\n",
       " 1e-10,\n",
       " 1e-10,\n",
       " 1e-10,\n",
       " 1e-10,\n",
       " 1.0,\n",
       " 1.0,\n",
       " 1e-10,\n",
       " 1e-10,\n",
       " 1.0,\n",
       " 1e-10,\n",
       " 1.0,\n",
       " 1e-10,\n",
       " 1.0,\n",
       " 1e-10,\n",
       " 1e-10,\n",
       " 1e-10,\n",
       " 1e-10,\n",
       " 1e-10,\n",
       " 1e-10,\n",
       " 1e-10,\n",
       " 1.0,\n",
       " 1e-10,\n",
       " 1e-10,\n",
       " 1e-10,\n",
       " 1.0,\n",
       " 1e-10,\n",
       " 1e-10,\n",
       " 1e-10,\n",
       " 1e-10,\n",
       " 1e-10,\n",
       " 1e-10,\n",
       " 1e-10,\n",
       " 1e-10,\n",
       " 1e-10,\n",
       " 1e-10,\n",
       " 1e-10,\n",
       " 1e-10,\n",
       " 1.0,\n",
       " 1e-10,\n",
       " 1.0,\n",
       " 1.0,\n",
       " 1e-10,\n",
       " 1e-10,\n",
       " 1e-10,\n",
       " 1e-10,\n",
       " 1e-10,\n",
       " 1e-10,\n",
       " 1e-10,\n",
       " 1e-10,\n",
       " 1e-10,\n",
       " 1e-10,\n",
       " 1e-10,\n",
       " 1e-10,\n",
       " 1e-10,\n",
       " 1e-10,\n",
       " 1e-10,\n",
       " 1e-10,\n",
       " 1e-10,\n",
       " 1e-10,\n",
       " 1e-10,\n",
       " 1e-10,\n",
       " 1e-10,\n",
       " 1e-10,\n",
       " 1e-10,\n",
       " 1e-10,\n",
       " 1e-10,\n",
       " 1e-10,\n",
       " 1.0,\n",
       " 1e-10,\n",
       " 1e-10,\n",
       " 1e-10,\n",
       " 1e-10,\n",
       " 1e-10,\n",
       " 1e-10,\n",
       " 1e-10,\n",
       " 1e-10,\n",
       " 1e-10,\n",
       " 1e-10,\n",
       " 1e-10,\n",
       " 1e-10,\n",
       " 1e-10,\n",
       " 1e-10,\n",
       " 1e-10,\n",
       " 1e-10,\n",
       " 1e-10,\n",
       " 1.0,\n",
       " 1e-10,\n",
       " 1e-10,\n",
       " 1e-10,\n",
       " 1e-10,\n",
       " 1e-10,\n",
       " 1e-10,\n",
       " 1e-10,\n",
       " 1e-10,\n",
       " 1e-10,\n",
       " 1e-10,\n",
       " 1e-10,\n",
       " 1.0,\n",
       " 1e-10,\n",
       " 1e-10,\n",
       " 1.0,\n",
       " 1e-10,\n",
       " 1.0,\n",
       " 1e-10,\n",
       " 1e-10,\n",
       " 1.0,\n",
       " 1e-10,\n",
       " 1e-10,\n",
       " 1e-10,\n",
       " 1e-10,\n",
       " 1e-10,\n",
       " 1.0,\n",
       " 1e-10,\n",
       " 1e-10,\n",
       " 11.0,\n",
       " 1e-10,\n",
       " 1e-10,\n",
       " 1.0,\n",
       " 1e-10,\n",
       " 1.0,\n",
       " 1e-10,\n",
       " 1e-10,\n",
       " 1e-10,\n",
       " 1e-10,\n",
       " 1e-10,\n",
       " 1e-10,\n",
       " 1.0,\n",
       " 1.0,\n",
       " 1.0,\n",
       " 1.0,\n",
       " 1e-10,\n",
       " 1e-10,\n",
       " 1e-10,\n",
       " 1e-10,\n",
       " 1.0,\n",
       " 1e-10,\n",
       " 1e-10,\n",
       " 1e-10,\n",
       " 1e-10,\n",
       " 1.0,\n",
       " 1e-10,\n",
       " 1e-10,\n",
       " 1e-10,\n",
       " 1e-10,\n",
       " 1e-10,\n",
       " 1e-10,\n",
       " 1e-10,\n",
       " 1e-10,\n",
       " 1e-10,\n",
       " 1.0,\n",
       " 1e-10,\n",
       " 1e-10,\n",
       " 1e-10,\n",
       " 1e-10,\n",
       " 1e-10,\n",
       " 1e-10,\n",
       " 1e-10,\n",
       " 1e-10,\n",
       " 1e-10,\n",
       " 1.0,\n",
       " 1e-10,\n",
       " 1e-10,\n",
       " 1e-10,\n",
       " 1e-10,\n",
       " 1e-10,\n",
       " 1e-10,\n",
       " 1e-10,\n",
       " 1e-10,\n",
       " 1e-10,\n",
       " 1e-10,\n",
       " 1e-10,\n",
       " 1e-10,\n",
       " 1e-10,\n",
       " 1e-10,\n",
       " 1e-10,\n",
       " 1e-10,\n",
       " 1e-10,\n",
       " 1e-10,\n",
       " 1e-10,\n",
       " 1e-10,\n",
       " 1e-10,\n",
       " 1e-10,\n",
       " 1.0,\n",
       " 1e-10,\n",
       " 1e-10,\n",
       " 1.0,\n",
       " 1e-10,\n",
       " 1e-10,\n",
       " 1e-10,\n",
       " 1e-10,\n",
       " 1e-10,\n",
       " 1e-10,\n",
       " 2147483648.0,\n",
       " 1e-10,\n",
       " 1e-10,\n",
       " 1e-10,\n",
       " 1.0,\n",
       " 1.0,\n",
       " 1.0,\n",
       " 1e-10,\n",
       " 1e-10,\n",
       " 1e-10,\n",
       " 1e-10,\n",
       " 1e-10,\n",
       " 1e-10,\n",
       " 1e-10,\n",
       " 1e-10,\n",
       " 1e-10,\n",
       " 1e-10,\n",
       " 1e-10,\n",
       " 1e-10,\n",
       " 1e-10,\n",
       " 1e-10,\n",
       " 1e-10,\n",
       " 1e-10,\n",
       " 1e-10,\n",
       " 1e-10,\n",
       " 1e-10,\n",
       " 1e-10,\n",
       " 1.0,\n",
       " 1e-10,\n",
       " 1e-10,\n",
       " 1e-10,\n",
       " 1e-10,\n",
       " 1e-10,\n",
       " 1e-10,\n",
       " 1e-10,\n",
       " 1e-10,\n",
       " 1.0,\n",
       " 1e-10,\n",
       " 1e-10,\n",
       " 1e-10,\n",
       " 1e-10,\n",
       " 1e-10,\n",
       " 1e-10,\n",
       " 1e-10,\n",
       " 1e-10,\n",
       " 1e-10,\n",
       " 1.0,\n",
       " 1e-10,\n",
       " 1.0,\n",
       " 1e-10,\n",
       " 1.0,\n",
       " 1e-10,\n",
       " 1e-10,\n",
       " 1e-10,\n",
       " 1e-10,\n",
       " 1e-10,\n",
       " 1e-10,\n",
       " 1e-10,\n",
       " 1e-10,\n",
       " 1e-10,\n",
       " 1e-10,\n",
       " 1e-10,\n",
       " 1e-10,\n",
       " 1.0,\n",
       " 1e-10,\n",
       " 1e-10,\n",
       " 1e-10,\n",
       " 1e-10,\n",
       " 1e-10,\n",
       " 1e-10,\n",
       " 1.0,\n",
       " 1e-10,\n",
       " 1e-10,\n",
       " 1e-10,\n",
       " 1e-10,\n",
       " 1e-10,\n",
       " 1e-10,\n",
       " 1e-10,\n",
       " 1e-10,\n",
       " 1e-10,\n",
       " 1e-10,\n",
       " 1e-10,\n",
       " 1e-10,\n",
       " 1e-10,\n",
       " 1e-10,\n",
       " 1.0,\n",
       " 1e-10,\n",
       " 1e-10,\n",
       " 1e-10,\n",
       " 1e-10,\n",
       " 1e-10,\n",
       " 1e-10,\n",
       " 1e-10,\n",
       " 1e-10,\n",
       " 1e-10,\n",
       " 1e-10,\n",
       " 1e-10,\n",
       " 1e-10,\n",
       " 1e-10,\n",
       " 1e-10,\n",
       " 1e-10,\n",
       " 1e-10,\n",
       " 1e-10,\n",
       " 1e-10,\n",
       " 1e-10,\n",
       " 1e-10,\n",
       " 1e-10,\n",
       " 1e-10,\n",
       " 1e-10,\n",
       " 1e-10,\n",
       " 1.0,\n",
       " 1e-10,\n",
       " 1e-10,\n",
       " 1e-10,\n",
       " 1e-10,\n",
       " 1.0,\n",
       " 1e-10,\n",
       " 1e-10,\n",
       " 1e-10,\n",
       " 1.0,\n",
       " 1e-10,\n",
       " 1e-10,\n",
       " 1e-10,\n",
       " 1e-10,\n",
       " 1e-10,\n",
       " 1e-10,\n",
       " 1e-10,\n",
       " 1e-10,\n",
       " 1e-10,\n",
       " 1.0,\n",
       " 1e-10,\n",
       " 1e-10,\n",
       " 1e-10,\n",
       " 1e-10,\n",
       " 1e-10,\n",
       " 1e-10,\n",
       " 1.0,\n",
       " 1e-10,\n",
       " 1.0,\n",
       " 1e-10,\n",
       " 1.0,\n",
       " 1e-10,\n",
       " 1e-10,\n",
       " 1e-10,\n",
       " 1e-10,\n",
       " 1e-10,\n",
       " 1e-10,\n",
       " 1e-10,\n",
       " 1e-10,\n",
       " 1e-10,\n",
       " 1e-10,\n",
       " 1e-10,\n",
       " 1e-10,\n",
       " 1e-10,\n",
       " 1e-10,\n",
       " 1e-10,\n",
       " 1e-10,\n",
       " 1e-10,\n",
       " 1.0,\n",
       " 1e-10,\n",
       " 1e-10,\n",
       " 1e-10,\n",
       " 1e-10,\n",
       " 1e-10,\n",
       " 1e-10,\n",
       " 1e-10,\n",
       " 1e-10,\n",
       " 105541978.0,\n",
       " 1e-10,\n",
       " 1.0,\n",
       " 1.0,\n",
       " 1e-10,\n",
       " 1e-10,\n",
       " 1e-10,\n",
       " 1e-10,\n",
       " 1e-10,\n",
       " 1e-10,\n",
       " 1e-10,\n",
       " 1.0,\n",
       " 1e-10,\n",
       " 1e-10,\n",
       " 1e-10,\n",
       " 1e-10,\n",
       " 1e-10,\n",
       " 1.0,\n",
       " 1e-10,\n",
       " 1e-10,\n",
       " 1e-10,\n",
       " 1e-10,\n",
       " 1e-10,\n",
       " 1e-10,\n",
       " 1e-10,\n",
       " 1e-10,\n",
       " 1e-10,\n",
       " 1e-10,\n",
       " 1e-10,\n",
       " 1.0,\n",
       " 1.0,\n",
       " 1e-10,\n",
       " 1e-10,\n",
       " 1e-10,\n",
       " 1e-10,\n",
       " 1e-10,\n",
       " 1e-10,\n",
       " 1e-10,\n",
       " 1e-10,\n",
       " 1.0,\n",
       " 1e-10,\n",
       " 1e-10,\n",
       " 1e-10,\n",
       " 1e-10,\n",
       " 1e-10,\n",
       " 1.0,\n",
       " 1e-10,\n",
       " 1e-10,\n",
       " 1e-10,\n",
       " 1e-10,\n",
       " 1e-10,\n",
       " 1.0,\n",
       " 1e-10,\n",
       " 1e-10,\n",
       " 1e-10,\n",
       " 1e-10,\n",
       " 1e-10,\n",
       " 1e-10,\n",
       " 1e-10,\n",
       " 1e-10,\n",
       " 1.0,\n",
       " 1e-10,\n",
       " 1e-10,\n",
       " 1e-10,\n",
       " 1e-10,\n",
       " 1e-10,\n",
       " 1e-10,\n",
       " 1.0,\n",
       " 1e-10,\n",
       " 1e-10,\n",
       " 1e-10,\n",
       " 1e-10,\n",
       " 1e-10,\n",
       " 1e-10,\n",
       " 1.0,\n",
       " 1.0,\n",
       " 1e-10,\n",
       " 1e-10,\n",
       " 1e-10,\n",
       " 1e-10,\n",
       " 1.0,\n",
       " 1.0,\n",
       " 1e-10,\n",
       " 1.0,\n",
       " 1e-10,\n",
       " 1e-10,\n",
       " 1e-10,\n",
       " 1e-10,\n",
       " 1e-10,\n",
       " 1e-10,\n",
       " 1e-10,\n",
       " 1e-10,\n",
       " 1e-10,\n",
       " 1.0,\n",
       " 1e-10,\n",
       " 1e-10,\n",
       " 1.0,\n",
       " 1e-10,\n",
       " 1e-10,\n",
       " 1e-10,\n",
       " 1e-10,\n",
       " 1.0,\n",
       " 1e-10,\n",
       " 1e-10,\n",
       " 1e-10,\n",
       " 1e-10,\n",
       " 1e-10,\n",
       " 1e-10,\n",
       " 1e-10,\n",
       " 1e-10,\n",
       " 1e-10,\n",
       " 1e-10,\n",
       " 1e-10,\n",
       " 1e-10,\n",
       " 1e-10,\n",
       " 1e-10,\n",
       " 1e-10,\n",
       " 1e-10,\n",
       " 1e-10,\n",
       " 1e-10,\n",
       " 1e-10,\n",
       " 1e-10,\n",
       " 1e-10,\n",
       " 1e-10,\n",
       " 1e-10,\n",
       " 1e-10,\n",
       " 1e-10,\n",
       " 1e-10,\n",
       " 1e-10,\n",
       " 1e-10,\n",
       " 1e-10,\n",
       " 1e-10,\n",
       " 1e-10,\n",
       " 1e-10,\n",
       " 1e-10,\n",
       " 1e-10,\n",
       " 1e-10,\n",
       " 1e-10,\n",
       " 1e-10,\n",
       " 1e-10,\n",
       " 1e-10,\n",
       " 1e-10,\n",
       " 1e-10,\n",
       " 1e-10,\n",
       " 1e-10,\n",
       " 1e-10,\n",
       " 1e-10,\n",
       " 1e-10,\n",
       " 1e-10,\n",
       " 1.0,\n",
       " 1e-10,\n",
       " 1e-10,\n",
       " 1e-10,\n",
       " 1e-10,\n",
       " 1.0,\n",
       " 1.0,\n",
       " 1e-10,\n",
       " 1.0,\n",
       " 1e-10,\n",
       " 1e-10,\n",
       " 1e-10,\n",
       " 1.0,\n",
       " 1e-10,\n",
       " 1e-10,\n",
       " 1e-10,\n",
       " 1e-10,\n",
       " 1e-10,\n",
       " 1e-10,\n",
       " 1.0,\n",
       " 1e-10,\n",
       " 1e-10,\n",
       " 1e-10,\n",
       " 1.0,\n",
       " 1e-10,\n",
       " 1e-10,\n",
       " 1e-10,\n",
       " 1e-10,\n",
       " 1e-10,\n",
       " 1.0,\n",
       " 1e-10,\n",
       " 1e-10,\n",
       " 1e-10,\n",
       " 1e-10,\n",
       " 1e-10,\n",
       " 1e-10,\n",
       " 1e-10,\n",
       " 1e-10,\n",
       " 1e-10,\n",
       " 1e-10,\n",
       " 1e-10,\n",
       " 1e-10,\n",
       " 1e-10,\n",
       " 1.0,\n",
       " 1e-10,\n",
       " 1e-10,\n",
       " 1e-10,\n",
       " 1e-10,\n",
       " 1e-10,\n",
       " 1e-10,\n",
       " 1e-10,\n",
       " 1e-10,\n",
       " 1e-10,\n",
       " 1e-10,\n",
       " 1e-10,\n",
       " 1e-10,\n",
       " 1.0,\n",
       " 1e-10,\n",
       " 1e-10,\n",
       " 1e-10,\n",
       " 1e-10,\n",
       " 1e-10,\n",
       " 1e-10,\n",
       " 1e-10,\n",
       " 1e-10,\n",
       " 1e-10,\n",
       " 1e-10,\n",
       " 1e-10,\n",
       " 1.0,\n",
       " 1e-10,\n",
       " 1e-10,\n",
       " 1e-10,\n",
       " 1e-10,\n",
       " 1.0,\n",
       " 1.0,\n",
       " 1.0,\n",
       " 1e-10,\n",
       " 1e-10,\n",
       " 1e-10,\n",
       " 1e-10,\n",
       " 1e-10,\n",
       " 1e-10,\n",
       " 1e-10,\n",
       " 1e-10,\n",
       " 1e-10,\n",
       " 1e-10,\n",
       " 1e-10,\n",
       " 1.0,\n",
       " 1e-10,\n",
       " 1e-10,\n",
       " 1e-10,\n",
       " 1e-10,\n",
       " 1e-10,\n",
       " 1.0,\n",
       " 1e-10,\n",
       " 1e-10,\n",
       " 1e-10,\n",
       " 1e-10,\n",
       " 1e-10,\n",
       " 1.0,\n",
       " 1e-10,\n",
       " 1e-10,\n",
       " 1e-10,\n",
       " 1e-10,\n",
       " 1e-10,\n",
       " 1e-10,\n",
       " 1e-10,\n",
       " 1e-10,\n",
       " 1.0,\n",
       " 1e-10,\n",
       " 1e-10,\n",
       " 1.0,\n",
       " 1e-10,\n",
       " 1e-10,\n",
       " 1e-10,\n",
       " 1e-10,\n",
       " 1e-10,\n",
       " 1e-10,\n",
       " 1e-10,\n",
       " 1.0,\n",
       " 1e-10,\n",
       " 1e-10,\n",
       " 1.0,\n",
       " 1e-10,\n",
       " 1e-10,\n",
       " 1e-10,\n",
       " 1e-10,\n",
       " 1e-10,\n",
       " 1e-10,\n",
       " 97.0,\n",
       " 1e-10,\n",
       " 1e-10,\n",
       " 1e-10,\n",
       " 1e-10,\n",
       " 1e-10,\n",
       " 1e-10,\n",
       " 1e-10,\n",
       " 1.0,\n",
       " 1e-10,\n",
       " 1e-10,\n",
       " 1e-10,\n",
       " 1e-10,\n",
       " 1e-10,\n",
       " 1e-10,\n",
       " 1e-10,\n",
       " 1e-10,\n",
       " 1e-10,\n",
       " 1e-10,\n",
       " 1e-10,\n",
       " 1e-10,\n",
       " 1e-10,\n",
       " 1e-10,\n",
       " 1e-10,\n",
       " 1e-10,\n",
       " 1e-10,\n",
       " 1e-10,\n",
       " 1e-10,\n",
       " 1e-10,\n",
       " 1.0,\n",
       " 1e-10,\n",
       " 1e-10,\n",
       " 1e-10,\n",
       " 1e-10,\n",
       " 1e-10,\n",
       " 1e-10,\n",
       " 1e-10,\n",
       " 1e-10,\n",
       " 1e-10,\n",
       " 1e-10,\n",
       " 1.0,\n",
       " 1e-10,\n",
       " 1e-10,\n",
       " 1e-10,\n",
       " 1e-10,\n",
       " 1107165511.0,\n",
       " 1e-10,\n",
       " 1e-10,\n",
       " 1e-10,\n",
       " 1e-10,\n",
       " 1e-10,\n",
       " 1e-10,\n",
       " 1.0,\n",
       " 1e-10,\n",
       " 1e-10,\n",
       " 1e-10,\n",
       " 1e-10,\n",
       " 1.0,\n",
       " 1e-10,\n",
       " 1e-10,\n",
       " 1e-10,\n",
       " 1e-10,\n",
       " 1e-10,\n",
       " 1e-10,\n",
       " 1e-10,\n",
       " 1e-10,\n",
       " 1e-10,\n",
       " 1e-10,\n",
       " 1e-10,\n",
       " 1e-10,\n",
       " 1.0,\n",
       " 1.0,\n",
       " 1e-10,\n",
       " 1e-10,\n",
       " 1e-10,\n",
       " 1e-10,\n",
       " 1e-10,\n",
       " 1e-10,\n",
       " 1e-10,\n",
       " 1.0,\n",
       " 1e-10,\n",
       " 1e-10,\n",
       " 1e-10,\n",
       " 1e-10,\n",
       " 1e-10,\n",
       " 1e-10,\n",
       " 1.0,\n",
       " 1e-10,\n",
       " 1e-10,\n",
       " 1e-10,\n",
       " 1e-10,\n",
       " 1e-10,\n",
       " 1e-10,\n",
       " 1e-10,\n",
       " 1e-10,\n",
       " 1e-10,\n",
       " 1e-10,\n",
       " 1e-10,\n",
       " 1.0,\n",
       " 1.0,\n",
       " 1.0,\n",
       " 1e-10,\n",
       " 1e-10,\n",
       " 1e-10,\n",
       " 1e-10,\n",
       " 1.0,\n",
       " 1e-10,\n",
       " 1e-10,\n",
       " 1e-10,\n",
       " 1e-10,\n",
       " 1e-10,\n",
       " 1e-10,\n",
       " 1e-10,\n",
       " 1.0,\n",
       " 1e-10,\n",
       " 1e-10,\n",
       " 1e-10,\n",
       " 1e-10,\n",
       " 1e-10,\n",
       " 1e-10,\n",
       " 1e-10,\n",
       " 1e-10,\n",
       " 1e-10,\n",
       " 1e-10,\n",
       " 1e-10,\n",
       " 1e-10,\n",
       " 1e-10,\n",
       " 1e-10,\n",
       " 1e-10,\n",
       " 1.0,\n",
       " 1e-10,\n",
       " 1e-10,\n",
       " 1e-10,\n",
       " 1e-10,\n",
       " 1e-10,\n",
       " 1e-10,\n",
       " 1.0,\n",
       " 1e-10,\n",
       " 1.0,\n",
       " 1e-10,\n",
       " 1.0,\n",
       " 1.0,\n",
       " 1e-10,\n",
       " 1e-10,\n",
       " 1e-10,\n",
       " 1e-10,\n",
       " 1e-10,\n",
       " 1e-10,\n",
       " 1e-10,\n",
       " 1e-10,\n",
       " 1e-10,\n",
       " 1.0,\n",
       " 1e-10,\n",
       " 1e-10,\n",
       " 1e-10,\n",
       " 1e-10,\n",
       " 1e-10,\n",
       " 1.0,\n",
       " 1e-10,\n",
       " 1e-10,\n",
       " 1e-10,\n",
       " 1e-10,\n",
       " 1e-10,\n",
       " 1e-10,\n",
       " 1e-10,\n",
       " 1e-10,\n",
       " 1e-10,\n",
       " 1e-10,\n",
       " 1e-10,\n",
       " 1e-10,\n",
       " 1e-10,\n",
       " 1e-10,\n",
       " 1.0,\n",
       " 1e-10,\n",
       " 1e-10,\n",
       " 1e-10,\n",
       " 1e-10,\n",
       " 1.0,\n",
       " 1e-10,\n",
       " 1e-10,\n",
       " 1e-10,\n",
       " 1e-10,\n",
       " 1e-10,\n",
       " 1.0,\n",
       " 1e-10,\n",
       " 1e-10,\n",
       " 1e-10,\n",
       " 1.0,\n",
       " 1e-10,\n",
       " 1e-10,\n",
       " 1e-10,\n",
       " 1e-10,\n",
       " 1.0,\n",
       " 1e-10,\n",
       " 1.0,\n",
       " 1e-10,\n",
       " 1e-10,\n",
       " 1e-10,\n",
       " 1e-10,\n",
       " 1e-10,\n",
       " 1e-10,\n",
       " 1e-10,\n",
       " 1.0,\n",
       " 1e-10,\n",
       " 1e-10,\n",
       " 1e-10,\n",
       " ...]"
      ]
     },
     "execution_count": 268,
     "metadata": {},
     "output_type": "execute_result"
    }
   ],
   "source": [
    "list(delta[np.where(prod<2)])"
   ]
  },
  {
   "cell_type": "code",
   "execution_count": 269,
   "id": "northern-spoke",
   "metadata": {},
   "outputs": [
    {
     "data": {
      "text/plain": [
       "(array([2.384e+04, 2.000e+00, 0.000e+00, 0.000e+00, 0.000e+00, 1.000e+00,\n",
       "        0.000e+00, 2.000e+00, 0.000e+00, 1.000e+01]),\n",
       " array([1.00000000e-10, 2.14748392e+08, 4.29496783e+08, 6.44245175e+08,\n",
       "        8.58993566e+08, 1.07374196e+09, 1.28849035e+09, 1.50323874e+09,\n",
       "        1.71798713e+09, 1.93273552e+09, 2.14748392e+09]),\n",
       " <a list of 10 Patch objects>)"
      ]
     },
     "execution_count": 269,
     "metadata": {},
     "output_type": "execute_result"
    },
    {
     "data": {
      "image/png": "[encoded data removed]",
      "text/plain": [
       "<Figure size 432x288 with 1 Axes>"
      ]
     },
     "metadata": {
      "needs_background": "light"
     },
     "output_type": "display_data"
    }
   ],
   "source": [
    "plt.hist(delta[np.where(prod<2)])"
   ]
  },
  {
   "cell_type": "code",
   "execution_count": 270,
   "id": "protected-declaration",
   "metadata": {},
   "outputs": [],
   "source": [
    "a = y1-xl_comp"
   ]
  },
  {
   "cell_type": "code",
   "execution_count": 271,
   "id": "quiet-drove",
   "metadata": {},
   "outputs": [
    {
     "data": {
      "text/plain": [
       "23858"
      ]
     },
     "execution_count": 271,
     "metadata": {},
     "output_type": "execute_result"
    }
   ],
   "source": [
    "a.size"
   ]
  },
  {
   "cell_type": "code",
   "execution_count": 272,
   "id": "dependent-freeware",
   "metadata": {},
   "outputs": [
    {
     "data": {
      "text/plain": [
       "array([[ 0.6,  0.6,  0.6, ..., -0.4,  0.6,  0.6]])"
      ]
     },
     "execution_count": 272,
     "metadata": {},
     "output_type": "execute_result"
    }
   ],
   "source": [
    "a"
   ]
  },
  {
   "cell_type": "code",
   "execution_count": 273,
   "id": "amateur-therapist",
   "metadata": {},
   "outputs": [
    {
     "data": {
      "text/plain": [
       "array([-2.14748365e+09, -2.14748365e+09, -2.14748365e+09])"
      ]
     },
     "execution_count": 273,
     "metadata": {},
     "output_type": "execute_result"
    }
   ],
   "source": [
    "a[np.where(prod>2)]"
   ]
  },
  {
   "cell_type": "code",
   "execution_count": 274,
   "id": "cooked-timber",
   "metadata": {},
   "outputs": [
    {
     "data": {
      "text/plain": [
       "array([-0.4, -0.4, -0.4, ..., -0.4, -0.4, -0.4])"
      ]
     },
     "execution_count": 274,
     "metadata": {},
     "output_type": "execute_result"
    }
   ],
   "source": [
    "a[a<0]"
   ]
  },
  {
   "cell_type": "code",
   "execution_count": 275,
   "id": "sunset-invitation",
   "metadata": {},
   "outputs": [
    {
     "data": {
      "text/plain": [
       "array([0.4, 0.4, 0.4])"
      ]
     },
     "execution_count": 275,
     "metadata": {},
     "output_type": "execute_result"
    }
   ],
   "source": [
    "xl_comp[np.where(prod>2)[0]]"
   ]
  },
  {
   "cell_type": "code",
   "execution_count": 276,
   "id": "portable-regulation",
   "metadata": {},
   "outputs": [
    {
     "data": {
      "text/plain": [
       "array([-2.14748365e+09, -2.14748365e+09, -2.14748365e+09])"
      ]
     },
     "execution_count": 276,
     "metadata": {},
     "output_type": "execute_result"
    }
   ],
   "source": [
    "y1[np.where(prod>2)]"
   ]
  },
  {
   "cell_type": "code",
   "execution_count": null,
   "id": "polyphonic-satin",
   "metadata": {},
   "outputs": [],
   "source": []
  },
  {
   "cell_type": "code",
   "execution_count": 277,
   "id": "controlled-millennium",
   "metadata": {},
   "outputs": [
    {
     "data": {
      "text/plain": [
       "array([-2.14748365e+09, -2.14748365e+09, -2.14748365e+09, -2.14748365e+09,\n",
       "       -2.14748365e+09, -2.14748365e+09, -2.14748365e+09, -2.14748365e+09,\n",
       "       -2.14748365e+09, -2.14748365e+09, -2.14748365e+09, -2.14748365e+09,\n",
       "       -2.14748365e+09])"
      ]
     },
     "execution_count": 277,
     "metadata": {},
     "output_type": "execute_result"
    }
   ],
   "source": [
    "y1[y1<0]"
   ]
  },
  {
   "cell_type": "code",
   "execution_count": null,
   "id": "cloudy-longitude",
   "metadata": {},
   "outputs": [],
   "source": []
  },
  {
   "cell_type": "code",
   "execution_count": null,
   "id": "pending-reward",
   "metadata": {},
   "outputs": [],
   "source": []
  }
 ],
 "metadata": {
  "kernelspec": {
   "display_name": "coeva2",
   "language": "python",
   "name": "coeva2"
  },
  "language_info": {
   "codemirror_mode": {
    "name": "ipython",
    "version": 3
   },
   "file_extension": ".py",
   "mimetype": "text/x-python",
   "name": "python",
   "nbconvert_exporter": "python",
   "pygments_lexer": "ipython3",
   "version": "3.7.7"
  }
 },
 "nbformat": 4,
 "nbformat_minor": 5
}
