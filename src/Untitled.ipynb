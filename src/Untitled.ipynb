{
 "cells": [
  {
   "cell_type": "code",
   "execution_count": 3,
   "id": "hollow-summit",
   "metadata": {},
   "outputs": [
    {
     "ename": "FileNotFoundError",
     "evalue": "[Errno 2] No such file or directory: '../out/attacks/09_coeva2_f1f2f4/results/results.pickle'",
     "output_type": "error",
     "traceback": [
      "\u001b[1;31m---------------------------------------------------------------------------\u001b[0m",
      "\u001b[1;31mFileNotFoundError\u001b[0m                         Traceback (most recent call last)",
      "\u001b[1;32m<ipython-input-3-5d743727cc97>\u001b[0m in \u001b[0;36m<module>\u001b[1;34m\u001b[0m\n\u001b[0;32m      1\u001b[0m \u001b[1;32mimport\u001b[0m \u001b[0mpickle\u001b[0m\u001b[1;33m\u001b[0m\u001b[1;33m\u001b[0m\u001b[0m\n\u001b[1;32m----> 2\u001b[1;33m \u001b[0minfile\u001b[0m \u001b[1;33m=\u001b[0m \u001b[0mopen\u001b[0m\u001b[1;33m(\u001b[0m\u001b[1;34mr\"../out/attacks/09_coeva2_f1f2f4/results/results.pickle\"\u001b[0m\u001b[1;33m,\u001b[0m\u001b[1;34m'rb'\u001b[0m\u001b[1;33m)\u001b[0m\u001b[1;33m\u001b[0m\u001b[1;33m\u001b[0m\u001b[0m\n\u001b[0m\u001b[0;32m      3\u001b[0m \u001b[0mnew_dict\u001b[0m \u001b[1;33m=\u001b[0m \u001b[0mpickle\u001b[0m\u001b[1;33m.\u001b[0m\u001b[0mload\u001b[0m\u001b[1;33m(\u001b[0m\u001b[0minfile\u001b[0m\u001b[1;33m)\u001b[0m\u001b[1;33m\u001b[0m\u001b[1;33m\u001b[0m\u001b[0m\n",
      "\u001b[1;31mFileNotFoundError\u001b[0m: [Errno 2] No such file or directory: '../out/attacks/09_coeva2_f1f2f4/results/results.pickle'"
     ]
    }
   ],
   "source": [
    "import pickle\n",
    "infile = open(r\"../out/attacks/09_coeva2_f1f2f4/results/results.pickle\",'rb')\n",
    "new_dict = pickle.load(infile)"
   ]
  },
  {
   "cell_type": "code",
   "execution_count": 4,
   "id": "fuzzy-offense",
   "metadata": {},
   "outputs": [],
   "source": [
    "from utils import Pickler"
   ]
  },
  {
   "cell_type": "code",
   "execution_count": 8,
   "id": "indoor-classic",
   "metadata": {},
   "outputs": [],
   "source": [
    "attack_results = Pickler.load_from_file(r\"C:\\Users\\salijona.dyrmishi\\constrained_malware_detection\\coeva2\\out\\attacks\\09_coeva2_f1f2f4\\results.pickle\")\n"
   ]
  },
  {
   "cell_type": "code",
   "execution_count": 9,
   "id": "useful-thanksgiving",
   "metadata": {},
   "outputs": [
    {
     "data": {
      "text/plain": [
       "[<attacks.coeva2.result_process.EfficientResult at 0x20710b59e88>,\n",
       " <attacks.coeva2.result_process.EfficientResult at 0x2072f686808>,\n",
       " <attacks.coeva2.result_process.EfficientResult at 0x2073ee16f08>,\n",
       " <attacks.coeva2.result_process.EfficientResult at 0x2074e4ac148>,\n",
       " <attacks.coeva2.result_process.EfficientResult at 0x2075dc46148>,\n",
       " <attacks.coeva2.result_process.EfficientResult at 0x2076d2c7d48>,\n",
       " <attacks.coeva2.result_process.EfficientResult at 0x2077d92b1c8>,\n",
       " <attacks.coeva2.result_process.EfficientResult at 0x2070bfe0e48>,\n",
       " <attacks.coeva2.result_process.EfficientResult at 0x20790788b88>,\n",
       " <attacks.coeva2.result_process.EfficientResult at 0x207a0ddcd08>]"
      ]
     },
     "execution_count": 9,
     "metadata": {},
     "output_type": "execute_result"
    }
   ],
   "source": [
    "attack_results"
   ]
  },
  {
   "cell_type": "code",
   "execution_count": 17,
   "id": "emotional-madagascar",
   "metadata": {},
   "outputs": [],
   "source": [
    "import attacks.coeva2.objective_calculator"
   ]
  },
  {
   "cell_type": "code",
   "execution_count": 18,
   "id": "canadian-liability",
   "metadata": {},
   "outputs": [
    {
     "ename": "AttributeError",
     "evalue": "module 'attacks.coeva2.objective_calculator' has no attribute 'success_rate'",
     "output_type": "error",
     "traceback": [
      "\u001b[1;31m---------------------------------------------------------------------------\u001b[0m",
      "\u001b[1;31mAttributeError\u001b[0m                            Traceback (most recent call last)",
      "\u001b[1;32m<ipython-input-18-f67f8cd9bb9b>\u001b[0m in \u001b[0;36m<module>\u001b[1;34m\u001b[0m\n\u001b[1;32m----> 1\u001b[1;33m \u001b[0mobjective_calculator\u001b[0m\u001b[1;33m.\u001b[0m\u001b[0msuccess_rate\u001b[0m\u001b[1;33m(\u001b[0m\u001b[0mattack_results\u001b[0m\u001b[1;33m)\u001b[0m\u001b[1;33m\u001b[0m\u001b[1;33m\u001b[0m\u001b[0m\n\u001b[0m",
      "\u001b[1;31mAttributeError\u001b[0m: module 'attacks.coeva2.objective_calculator' has no attribute 'success_rate'"
     ]
    }
   ],
   "source": [
    "objective_calculator.success_rate(attack_results)"
   ]
  },
  {
   "cell_type": "code",
   "execution_count": 19,
   "id": "northern-sudan",
   "metadata": {},
   "outputs": [],
   "source": [
    "import numpy as np\n",
    "a = np.load(r'C:\\Users\\salijona.dyrmishi\\constrained_malware_detection\\coeva2\\out\\static\\x_generated_candidate.npy')"
   ]
  },
  {
   "cell_type": "code",
   "execution_count": 20,
   "id": "occupational-remains",
   "metadata": {},
   "outputs": [
    {
     "data": {
      "text/plain": [
       "array([[1.        , 0.        , 1.        , ..., 0.60385122, 0.70328975,\n",
       "        0.28429281],\n",
       "       [0.        , 1.        , 1.        , ..., 0.23978315, 0.32083794,\n",
       "        0.11016993],\n",
       "       [1.        , 0.        , 1.        , ..., 0.99976527, 0.03680733,\n",
       "        0.41153242],\n",
       "       ...,\n",
       "       [1.        , 0.        , 1.        , ..., 0.57184164, 0.85008764,\n",
       "        0.29578095],\n",
       "       [1.        , 1.        , 0.        , ..., 0.57178801, 0.91937808,\n",
       "        0.56439653],\n",
       "       [0.        , 0.        , 0.        , ..., 0.52626833, 0.6659908 ,\n",
       "        0.95914037]])"
      ]
     },
     "execution_count": 20,
     "metadata": {},
     "output_type": "execute_result"
    }
   ],
   "source": [
    "a "
   ]
  },
  {
   "cell_type": "code",
   "execution_count": null,
   "id": "considerable-second",
   "metadata": {},
   "outputs": [],
   "source": [
    "g4 = np.sum(init_numpy[:,imports_idx], axis=1) - init_numpy[:,271]\n",
    "g4"
   ]
  },
  {
   "cell_type": "code",
   "execution_count": null,
   "id": "identified-litigation",
   "metadata": {},
   "outputs": [],
   "source": []
  }
 ],
 "metadata": {
  "kernelspec": {
   "display_name": "Python 3",
   "language": "python",
   "name": "python3"
  },
  "language_info": {
   "codemirror_mode": {
    "name": "ipython",
    "version": 3
   },
   "file_extension": ".py",
   "mimetype": "text/x-python",
   "name": "python",
   "nbconvert_exporter": "python",
   "pygments_lexer": "ipython3",
   "version": "3.7.7"
  }
 },
 "nbformat": 4,
 "nbformat_minor": 5
}
